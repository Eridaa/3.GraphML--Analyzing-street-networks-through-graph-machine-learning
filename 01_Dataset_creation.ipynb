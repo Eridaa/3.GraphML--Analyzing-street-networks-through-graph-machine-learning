{
  "cells": [
    {
      "cell_type": "markdown",
      "metadata": {
        "id": "iN7JrnFWVmGX"
      },
      "source": [
        "#**Prep**"
      ]
    },
    {
      "cell_type": "markdown",
      "source": [
        "##*installing needed libraries*"
      ],
      "metadata": {
        "id": "HR8jBNf3kVOs"
      }
    },
    {
      "cell_type": "code",
      "execution_count": null,
      "metadata": {
        "id": "JszFjs7hMu2b"
      },
      "outputs": [],
      "source": [
        "!pip install osmnx\n",
        "!pip install momepy\n",
        "!pip install --upgrade xlrd"
      ]
    },
    {
      "cell_type": "code",
      "execution_count": null,
      "metadata": {
        "id": "E-WCCrq1MHnp"
      },
      "outputs": [],
      "source": [
        "import osmnx as ox\n",
        "import momepy\n",
        "import matplotlib\n",
        "import networkx as nx\n",
        "import pandas as pd\n",
        "%matplotlib inline \n",
        "import matplotlib.pyplot as plt\n",
        "import numpy as np\n",
        "import shapely\n",
        "import geopandas as gpd\n",
        "import itertools"
      ]
    },
    {
      "cell_type": "code",
      "execution_count": null,
      "metadata": {
        "colab": {
          "base_uri": "https://localhost:8080/"
        },
        "id": "91Q9HXirUdZz",
        "outputId": "0b13e2d2-bfdd-4151-bdbe-561d44b0322c"
      },
      "outputs": [
        {
          "output_type": "stream",
          "name": "stdout",
          "text": [
            "/content/drive/MyDrive/THESIS - SNG\n"
          ]
        }
      ],
      "source": [
        "%cd /content/drive/MyDrive/THESIS - SNG"
      ]
    },
    {
      "cell_type": "code",
      "execution_count": null,
      "metadata": {
        "colab": {
          "base_uri": "https://localhost:8080/"
        },
        "id": "cCdgeZnXNhKA",
        "outputId": "18c8f012-3347-4c29-efea-4c428803e8e1"
      },
      "outputs": [
        {
          "output_type": "stream",
          "name": "stdout",
          "text": [
            "\u001b[K     |████████████████████████████████| 435 kB 5.1 MB/s \n",
            "\u001b[K     |████████████████████████████████| 500 kB 63.1 MB/s \n",
            "\u001b[K     |████████████████████████████████| 120 kB 73.1 MB/s \n",
            "\u001b[K     |████████████████████████████████| 1.6 MB 61.4 MB/s \n",
            "\u001b[K     |████████████████████████████████| 82 kB 678 kB/s \n",
            "\u001b[K     |████████████████████████████████| 41 kB 740 kB/s \n",
            "\u001b[?25h  Building wheel for mplleaflet (setup.py) ... \u001b[?25l\u001b[?25hdone\n"
          ]
        }
      ],
      "source": [
        "# install StellarGraph if running on Google Colab\n",
        "import sys\n",
        "if 'google.colab' in sys.modules:\n",
        "  %pip install -q stellargraph[demos]==1.2.1"
      ]
    },
    {
      "cell_type": "code",
      "execution_count": null,
      "metadata": {
        "id": "xhuXkD72NjCa"
      },
      "outputs": [],
      "source": [
        "# verify that we're using the correct version of StellarGraph for this notebook\n",
        "import stellargraph as sg\n",
        "\n",
        "try:\n",
        "    sg.utils.validate_notebook_version(\"1.2.1\")\n",
        "except AttributeError:\n",
        "    raise ValueError(\n",
        "        f\"This notebook requires StellarGraph version 1.2.1, but a different version {sg.__version__} is installed.  Please see <https://github.com/stellargraph/stellargraph/issues/1172>.\"\n",
        "    ) from None"
      ]
    },
    {
      "cell_type": "code",
      "source": [
        "from stellargraph import StellarGraph\n",
        "import math\n",
        "from statistics import mean"
      ],
      "metadata": {
        "id": "uhMcgWiNkq13"
      },
      "execution_count": null,
      "outputs": []
    },
    {
      "cell_type": "markdown",
      "source": [
        "##*getting locations for street network retrieval from osmnx*"
      ],
      "metadata": {
        "id": "Qjt5PJ2-k1dT"
      }
    },
    {
      "cell_type": "code",
      "execution_count": null,
      "metadata": {
        "colab": {
          "base_uri": "https://localhost:8080/"
        },
        "id": "3UA5mUs2TKjt",
        "outputId": "be6fb670-6645-4bea-a0cd-af2cdda03f23"
      },
      "outputs": [
        {
          "output_type": "stream",
          "name": "stdout",
          "text": [
            "[['Geocode', 'Location', 'Typology'], ['Carrer de Martínez de la Rosa, la Vila de Gràcia, Gràcia, Barcelona, Barcelonès, Barcelona, Catalonia, 08001, Spain', '41.39935, 2.15934', '2'], ['Carrer de Galileu, Sants, Sants-Montjuïc, Barcelona, Barcelonès, Barcelona, Catalonia, 08001, Spain', '41.37804, 2.13498', '2'], ['Carrer de Sant Carles, la Barceloneta, Ciutat Vella, Barcelona, Barcelonès, Barcelona, Catalonia, 08001, Spain', '41.37924, 2.18961', '1'], ['Carrer de Rossell, la Teixonera, Horta-Guinardó, Barcelona, Barcelonès, Barcelona, Catalonia, 08001, Spain', '41.42258, 2.14568', '3'], ['Carrer de Lleida, Cella Vinaria, Teià, Maresme, Barcelona, Catalonia, 08329, Spain', '41.4913, 2.3142', '4'], [\"Avinguda d'Antoni Gaudí, Alella Park, Alella, Maresme, Barcelona, Catalonia, 08328, Spain\", '41.51231, 2.29035', '3'], ['ronda del Pirineu, Can Soberano, Premià de Dalt, Maresme, Barcelona, Catalonia, 08338, Spain', '41.49868, 2.34009', '4'], ['Carrer del Montseny, Vilassar de Dalt, Maresme, Barcelona, Catalonia, 08339, Spain', '41.51167, 2.35783', '4'], ['passatge moreres, Cabrils, Maresme, Barcelona, Catalonia, 08348, Spain', '41.5347, 2.3706', '4'], ['carrer muntanya, Cabrils, Maresme, Barcelona, Catalonia, 08348, Spain', '41.52407, 2.37866', '3'], ['plaça de la Gatassa, Cerdanyola, Mataró, Maresme, Barcelona, Catalonia, 08303, Spain', '41.54228, 2.42581', '3'], ['Carrer Transversal, Cirera, Mataró, Maresme, Barcelona, Catalonia, 08303, Spain', '41.54856, 2.43474', '2'], ['Carrer del Sol, Sant Feliu de Guíxols, Lower Empordà, Girona, Catalonia, 17220, Spain', '41.78435, 3.02988', '2'], ['Plaça de Salvador Espriu, Sant Feliu de Guíxols, Lower Empordà, Girona, Catalonia, Spain', '41.79174, 3.02491', '2'], [\"Plaça del President Irla, Santa Cristina d'Aro, Lower Empordà, Girona, Catalonia, 17246, Spain\", '41.81406, 2.99758', '2'], ['Plaça de Terol, Sant Feliu de Guíxols, Lower Empordà, Girona, Catalonia, Spain', '41.7921, 3.02548', '2'], [\"Carrer d'Isidre Nonell, Calonge, Calonge i Sant Antoni, Lower Empordà, Girona, Catalonia, 17251, Spain\", '41.8412, 3.0677', '4'], ['Avinguda del Vescomtat de Cabanyes, Calonge, Calonge i Sant Antoni, Lower Empordà, Girona, Catalonia, 17251, Spain', '41.8546, 3.0574', '4'], ['Carrer del Baix Llobregat, Calonge, Calonge i Sant Antoni, Lower Empordà, Girona, Catalonia, 17251, Spain', '41.8621, 3.0667', '4'], ['Carrer del Capsacosta, Tamariu, Palafrugell, Lower Empordà, Girona, Catalonia, 17212, Spain', '41.9222, 3.2108', '5'], ['Carrer de Ses Planasses, Sa Punta, Begur, Lower Empordà, Girona, Catalonia, 17213, Spain', '41.9785, 3.205', '4'], [\"Carrer de l'Espígol, l'Escala, Upper Empordà, Girona, Catalonia, 17130, Spain\", '42.11005, 3.14181', '5'], [\"Carrer de Barcelona, l'Escala, Upper Empordà, Girona, Catalonia, 17130, Spain\", '42.11373, 3.13493', '5'], [\"Sector Requesens, Empuriabrava, Castelló d'Empúries, Upper Empordà, Girona, Catalonia, 17487, Spain\", '42.2444, 3.1178', '5'], [\"Empuriabrava, Castelló d'Empúries, Upper Empordà, Girona, Catalonia, 17487, Spain\", '42.2511, 3.1154', '5'], ['Avinguda de la Reina Fabiola, Llançà, Upper Empordà, Girona, Catalonia, 17490, Spain', '42.3642, 3.1593', '4'], ['Rue François Mauriac, Le Jardin aux Fontaines, Argelès Village, Argelès-sur-Mer, Céret, Pyrénées-Orientales, Occitania, Metropolitan France, 66700, France', '42.54371, 3.03418', '4'], ['Cami Trencat, Argelès Village, Argelès-sur-Mer, Céret, Pyrénées-Orientales, Occitania, Metropolitan France, 66700, France', '42.5516, 3.02215', '4'], ['Impasse Voltaire, Latour-Bas-Elne, Céret, Pyrénées-Orientales, Occitania, Metropolitan France, 66200, France', '42.60747, 3.00267', '4'], ['Rue Jean Giono, Saint-Cyprien Plage, Saint-Cyprien, Céret, Pyrénées-Orientales, Occitania, Metropolitan France, 66750, France', '42.62987, 3.02438', '5'], ['Rue Henry Bordeaux, Saint-Cyprien Plage, Saint-Cyprien, Céret, Pyrénées-Orientales, Occitania, Metropolitan France, 66750, France', '42.6371, 3.02508', '5'], ['Avenue de la Méditerranée, Le Val des Vignes, Villeneuve-de-la-Raho, Perpignan, Pyrénées-Orientales, Occitania, Metropolitan France, 66180, France', '42.63055, 2.91836', '4'], ['Avenue de Rivesaltes, Saint-Estève, Perpignan, Pyrénées-Orientales, Occitania, Metropolitan France, 66240, France', '42.71288, 2.84338', '4'], [\"Chemin de l'Étang Long, Résidence L'Écrin Blanc, Pia, Perpignan, Pyrénées-Orientales, Occitania, Metropolitan France, 66380, France\", '42.74243, 2.90227', '5'], ['Rue des Romarins, Pia, Perpignan, Pyrénées-Orientales, Occitania, Metropolitan France, 66380, France', '42.74606, 2.9113', '5'], ['Rue des Îles Mariannes, Beauvoir, Saint-Orens-de-Gameville, Toulouse, Haute-Garonne, Occitania, Metropolitan France, 31650, France', '43.5583, 1.5222', '4'], ['Rue du Lauragais, Villeneuve-Tolosane, Toulouse, Haute-Garonne, Occitania, Metropolitan France, 31270, France', '43.5255, 1.3292', '4'], [\"Rue de l'Aubisque, La Salvetat-Saint-Gilles, Toulouse, Haute-Garonne, Occitania, Metropolitan France, 31880, France\", '43.5806, 1.27784', '5'], ['Rue de la Durance, Quéfets, Tournefeuille, Toulouse, Haute-Garonne, Occitania, Metropolitan France, 31170, France', '43.5797, 1.319', '4'], ['Rue du Pradal, Tournefeuille, Toulouse, Haute-Garonne, Occitania, Metropolitan France, 31170, France', '43.56002, 1.34113', '5'], ['Chemin de Larriou, Pibrac, Toulouse, Haute-Garonne, Occitania, Metropolitan France, 31820, France', '43.61424, 1.28349', '4'], ['Carrel, Chemin des Pins, Au Benech, Cyprié, Balma, Toulouse, Haute-Garonne, Occitania, Metropolitan France, 31130, France', '43.61584, 1.50771', '5'], ['Rue Henri de Préserville, Nicoulaou, Cyprié, Balma, Toulouse, Haute-Garonne, Occitania, Metropolitan France, 31130, France', '43.60003, 1.50237', '5'], ['Avenue du Parc, Aucamville, Toulouse, Haute-Garonne, Occitania, Metropolitan France, 31140, France', '43.67421, 1.43308', '5'], ['7, Impasse de la Gerbe, Gambetta, Centre, Montpellier, Hérault, Occitania, Metropolitan France, 34060, France', '43.60445, 3.87109', '2'], [\"Allée du Queyras, Lemasson, Croix d'Argent, Montpellier, Hérault, Occitania, Metropolitan France, 34060, France\", '43.59341, 3.8707', '4'], ['Avenue des Cévennes, Saint-Gély-du-Fesc, Lodève, Hérault, Occitania, Metropolitan France, 34980, France', '43.69931, 3.80446', '5'], ['90, Allée de la Canelle, Saint-Gély-du-Fesc, Lodève, Hérault, Occitania, Metropolitan France, 34980, France', '43.69344, 3.8023', '5'], ['15, Rue des Parennettes, Château Cézanne, Saint-Gély-du-Fesc, Lodève, Hérault, Occitania, Metropolitan France, 34980, France', '43.68546, 3.80591', '5'], ['Rue des Chanterelles, Le Rouquet, Saint-Gély-du-Fesc, Lodève, Hérault, Occitania, Metropolitan France, 34980, France', '43.70112, 3.79802', '5'], ['Rue des Forsythias, Prades-le-Lez, Montpellier, Hérault, Occitania, Metropolitan France, 34730, France', '43.68881, 3.86668', '5'], ['Avenue des Sabines, Castelnau-le-Lez, Montpellier, Hérault, Occitania, Metropolitan France, 34170, France', '43.64372, 3.9267', '4'], ['Rue Jean-Sébastien Bach, Maumarin, Le Crès, Montpellier, Hérault, Occitania, Metropolitan France, 34920, France', '43.65749, 3.9396', '5'], ['130, Avenue Victor Hugo, Lunel, Montpellier, Hérault, Occitania, Metropolitan France, 34400, France', '43.67811, 4.13302', '2'], ['Place de la Petite Camargue, Lunel, Montpellier, Hérault, Occitania, Metropolitan France, 34400, France', '43.6673, 4.13164', '5'], ['36, Place Henri Moissan, Lunel, Montpellier, Hérault, Occitania, Metropolitan France, 34400, France', '43.673, 4.1195', '5'], ['Rue des Mélèzes, Lunel, Montpellier, Hérault, Occitania, Metropolitan France, 34400, France', '43.68866, 4.12338', '5'], ['Impasse des Prés, Lunel, Montpellier, Hérault, Occitania, Metropolitan France, 34400, France', '43.66745, 4.13211', '5'], ['Rue Leconte de Lisle, Vauvert, Nîmes, Gard, Occitania, Metropolitan France, 30600, France', '43.692, 4.28255', '5'], ['Impasse des Jujubiers, Valdegour, Nimes, Nîmes, Gard, Occitania, Metropolitan France, 30907, France', '43.82883, 4.32094', '4'], ['Rue Delon Soubeyran, Écusson, La Placette, Nimes, Nîmes, Gard, Occitania, Metropolitan France, 30033, France', '43.83531, 4.35457', '2'], ['Rue du Ramoneur, Mas de Possac, Nimes, Nîmes, Gard, Occitania, Metropolitan France, 30034, France', '43.83973, 4.39574', '4'], ['3, Allée du Mas de Vignolles, Costières, Nimes, Nîmes, Gard, Occitania, Metropolitan France, 30947, France', '43.8199, 4.36275', '5'], ['13, Rue Bachalas, Écusson, Gambetta, Nimes, Nîmes, Gard, Occitania, Metropolitan France, 30017, France', '43.84172, 4.36041', '2'], [\"Impasse Laure de Noves, Sacré-Coeur, Quartier Nord Rocade, Avignon, Vaucluse, Provence-Alpes-Côte d'Azur, Metropolitan France, 84000, France\", '43.93949, 4.80983', '5'], [\"Avenue des Sources, Sacré-Coeur, Quartier Nord Rocade, Avignon, Vaucluse, Provence-Alpes-Côte d'Azur, Metropolitan France, 84000, France\", '43.93983, 4.81449', '5'], [\"Avenue du Capitaine de Vaisseau l'Herminier, La Trillade, Quartier Nord Rocade, Avignon, Vaucluse, Provence-Alpes-Côte d'Azur, Metropolitan France, 84000, France\", '43.93524, 4.81991', '5'], [\"Impasse Jean Baptiste de la Rose, Fontcouverte, Quartier Est, Avignon, Vaucluse, Provence-Alpes-Côte d'Azur, Metropolitan France, 84000, France\", '43.94187, 4.84523', '5'], [\"Ets Davin, 14, Avenue du Compagnonnage, Pôle d'activités de Fontcouverte, Quartier Est, Avignon, Vaucluse, Provence-Alpes-Côte d'Azur, Metropolitan France, 84000, France\", '43.93617, 4.85104', '5'], [\"Rue des Fileuses, Réalpanier, Le Pontet, Avignon, Vaucluse, Provence-Alpes-Côte d'Azur, Metropolitan France, 84130, France\", '43.95554, 4.86651', '5'], [\"Le Pontet, Avignon, Vaucluse, Provence-Alpes-Côte d'Azur, Metropolitan France, 84130, France\", '43.96303, 4.87925', '5'], [\"Chemin de la Vieille Grange, HLM les Pessades, Vedène, Avignon, Vaucluse, Provence-Alpes-Côte d'Azur, Metropolitan France, 84270, France\", '43.9714, 4.90531', '5'], [\"HLM les Pessades, Vedène, Avignon, Vaucluse, Provence-Alpes-Côte d'Azur, Metropolitan France, 84270, France\", '43.98114, 4.91145', '5'], [\"Rue Saint-Exupéry, Saint-Saturnin-lès-Avignon, Avignon, Vaucluse, Provence-Alpes-Côte d'Azur, Metropolitan France, 84450, France\", '43.96242, 4.93384', '5'], [\"Chemin des Cerisiers, Saint-Saturnin-lès-Avignon, Avignon, Vaucluse, Provence-Alpes-Côte d'Azur, Metropolitan France, 84450, France\", '43.96042, 4.9237', '5'], [\"Avenue Voltaire Garcin, Le Partage des Eaux, L'Isle-sur-la-Sorgue, Avignon, Vaucluse, Provence-Alpes-Côte d'Azur, Metropolitan France, 84800, France\", '43.91903, 5.0661', '5'], [\"Avenue Pierre Bérégovoy, Fos-sur-Mer, Istres, Bouches-du-Rhône, Provence-Alpes-Côte d'Azur, Metropolitan France, 13270, France\", '43.46643, 4.94379', '5'], [\"Chemin de Clément, Les Carabins, Fos-sur-Mer, Istres, Bouches-du-Rhône, Provence-Alpes-Côte d'Azur, Metropolitan France, 13270, France\", '43.4628, 4.93447', '5'], [\"Rue Albert Rey, Port-de-Bouc, Istres, Bouches-du-Rhône, Provence-Alpes-Côte d'Azur, Metropolitan France, 13110, France\", '43.40144, 4.98015', '2'], [\"Chemin des Fabriques, Martigues, Istres, Bouches-du-Rhône, Provence-Alpes-Côte d'Azur, Metropolitan France, 13500, France\", '43.41671, 5.00822', '5'], [\"Allée des Frangipaniers, Village du Pradet, Le Pradet, Toulon, Var, Provence-Alpes-Côte d'Azur, Metropolitan France, 83220, France\", '43.10496, 6.03171', '5'], [\"La Romane, Carqueiranne, Toulon, Var, Provence-Alpes-Côte d'Azur, Metropolitan France, 83320, France\", '43.09533, 6.08174', '5'], [\"Chemin de l'Argentière, Cogolin, Draguignan, Var, Provence-Alpes-Côte d'Azur, Metropolitan France, 83310, France\", '43.25496, 6.51937', '5'], ['Cours Franklin Roosevelt, Lyon 6e Arrondissement, Lyon, Métropole de Lyon, Departemental constituency of Rhône, Auvergne-Rhône-Alpes, Metropolitan France, 69006, France', '45.7693, 4.8503', '1'], [\"Avenue Marguerite de Salin, Marsannay-la-Côte, Dijon, Côte-d'Or, Bourgogne-Franche-Comté, Metropolitan France, 21160, France\", '47.2793, 5.0021', '4'], [\"Rue Auguste Gal, Riquier, Carabacel, Nice, Maritime Alps, Provence-Alpes-Côte d'Azur, Metropolitan France, 06300, France\", '43.70302, 7.2853', '1'], ['Molenmeersenstraat, Wervik, Ieper, West Flanders, Flanders, 8940, Belgium', '50.78524, 3.0412', '5'], ['Rue Leavers, Calais, Pas-de-Calais, Hauts-de-France, Metropolitan France, 62100, France', '50.942, 1.85772', '2'], ['Rue Paul Machy, Les Dunes, Saint-Pol-sur-Mer, Dunkirk, Nord, Hauts-de-France, Metropolitan France, 59430, France', '51.0313, 2.3452', '2'], ['Kerkebeekstraat, Varsenare, Jabbeke, Brugge, West Flanders, Flanders, 8490, Belgium', '51.1836, 3.1456', '5'], ['Pijpenstrostraat, Sint-Andries, Bruges, Brugge, West Flanders, Flanders, 8200, Belgium', '51.1831, 3.1767', '5'], ['t Groeneveld, Sint-Michiels, Bruges, Brugge, West Flanders, Flanders, 8200, Belgium', '51.1773, 3.2156', '3'], ['Kardinaal Cardijnlaan, Beernem, Brugge, West Flanders, Flanders, 8730, Belgium', '51.1261, 3.3231', '5'], ['Lisdoddestraat, Lange Velden, Wondelgem, Ghent, Gent, East Flanders, Flanders, 9032, Belgium', '51.08689, 3.69461', '4'], ['Sint-Martens-Latem, Gent, East Flanders, Flanders, 9830, Belgium', '51.0227, 3.6227', '5'], ['Hijfte, Lochristi, Gent, East Flanders, Flanders, 9080, Belgium', '51.1007, 3.8363', '5'], ['Lijsterstraat, Lede, Aalst, East Flanders, Flanders, 9340, Belgium', '50.9694, 3.99493', '5'], ['Avenue Daudet, Wavre, Nivelles, Walloon Brabant, Wallonia, 1300, Belgium', '50.7089, 4.634', '5'], ['Basse-Wavre, Wavre, Nivelles, Walloon Brabant, Wallonia, 1300, Belgium', '50.7158, 4.6281', '5'], ['Insulindesingel, Indische buurt, Vlaardingen, South Holland, Netherlands, 3131 LR, Netherlands', '51.9118, 4.3308', '2'], ['Aleidastraat, Nieuwland, Schiedam, South Holland, Netherlands, 3117 DB, Netherlands', '51.9134, 4.3888', '3'], ['Dantestraat, Homerusbuurt, Lombardijen, IJsselmonde, Rotterdam, South Holland, Netherlands, 3076 KT, Netherlands', '51.87431, 4.52816', '5'], ['Valkenboskade, Valkenboskwartier, Segbroek, The Hague, South Holland, Netherlands, 2563 HA, Netherlands', '52.0731, 4.2718', '2'], ['Adenauererf, De Maer, Heemskerk, North Holland, Netherlands, 1963 AB, Netherlands', '52.5175, 4.6829', '5'], ['Anna Reynvaanstraat, Breedweer, Heemskerk, North Holland, Netherlands, 1963 BW, Netherlands', '52.5204, 4.6867', '3'], ['Benningskamplaan, Assum, Uitgeest, North Holland, Netherlands, 1911 LP, Netherlands', '52.51413, 4.70582', '3'], ['Koperwiekstraat, Uitgeest, North Holland, Netherlands, 1911 RB, Netherlands', '52.53378, 4.70963', '5'], ['Bijlacker, Castricum, North Holland, Netherlands, 1902 AL, Netherlands', '52.5459, 4.6749', '5'], ['Wulpenhof, Waldervaart-Noordwest, Schagen, North Holland, Netherlands, 1742 CB, Netherlands', '52.7861, 4.7792', '5'], ['de Slenk, Hoep, Schagen, North Holland, Netherlands, 1741 DC, Netherlands', '52.7905, 4.8094', '3'], ['Dekkerstraat, Oostertuinen, Beverwijk, North Holland, Netherlands, 1944 VB, Netherlands', '52.4907, 4.6538', '2'], ['Maria-Merian-Bogen, Pioneer Park, Wolfgang, Hanau, Main-Kinzig-Kreis, Hesse, 63457, Germany', '50.1277, 8.95122', '3'], ['Am Markt, Innenstadt, Hanau, Main-Kinzig-Kreis, Hesse, 63450, Germany', '50.13267, 8.91696', '1'], ['Ollenhauerstraße, Waldsiedlung, Großauheim, Hanau, Main-Kinzig-Kreis, Hesse, 63457, Germany', '50.10299, 8.96784', '5'], ['Kurt-Schumacher-Straße, Langendiebach, Erlensee, Main-Kinzig-Kreis, Hesse, 63526, Germany', '50.1697, 8.992', '5'], ['Ladenstraße, Niederrodenbach, Rodenbach, Main-Kinzig-Kreis, Hesse, 63517, Germany', '50.13778, 9.03159', '5'], ['Drosselweg, Oberrodenbach, Rodenbach, Main-Kinzig-Kreis, Hesse, 63517, Germany', '50.1414, 9.06267', '5'], ['4, Georg-Büchner-Straße, Unterfeldhaus, Erkrath, Kreis Mettmann, North Rhine-Westphalia, 40699, Germany', '51.20144, 6.91979', '5'], ['36, Ruhrstraße, Willbeck, Hochdahl, Erkrath, Kreis Mettmann, North Rhine-Westphalia, 40699, Germany', '51.20762, 6.97521', '5'], ['13, Händelstraße, Süd, Mettmann, Kreis Mettmann, North Rhine-Westphalia, 40822, Germany', '51.24214, 6.97839', '4'], ['Johannes van der Waalsstraat, Middenmeer, Oost, Amsterdam, North Holland, Netherlands, 1098 PJ, Netherlands', '52.3516, 4.9411', '2'], ['Mr. P.N. Arntzeniusweg, Middenmeer, Oost, Amsterdam, North Holland, Netherlands, 1098 GT, Netherlands', '52.3541, 4.9369', '2'], ['Kinlozen, Linquenda, Nieuw-Vennep, Haarlemmermeer, North Holland, Netherlands, 2151 XE, Netherlands', '52.26231, 4.62199', '5'], ['Louise de Colignylaan, Haarlem, North Holland, Netherlands, 2012 SR, Netherlands', '52.3635, 4.6321', '3'], ['Indischestraat, Haarlem, North Holland, Netherlands, 2022 TT, Netherlands', '52.4038, 4.6515', '2'], ['Oostertuinen, Beverwijk, North Holland, Netherlands, 1944 SG, Netherlands', '52.4914, 4.6545', '2'], ['Castricum, North Holland, Netherlands, 1901 TJ, Netherlands', '52.5528, 4.6685', '2'], ['Vondellaan, De Berg-Zuid, Amersfoort, Utrecht, Netherlands, 3818 EE, Netherlands', '52.14506, 5.36825', '3'], ['13, Waalstraat, Soesterkwartier, Amersfoort, Utrecht, Netherlands, 3812 HV, Netherlands', '52.161, 5.36462', '2'], ['Watersteeg, Nieuwland, Amersfoort, Utrecht, Netherlands, 3824 HL, Netherlands', '52.20246, 5.37209', '3'], ['De Oversteek, Zielhorst, Amersfoort, Utrecht, Netherlands, 3822 TC, Netherlands', '52.18239, 5.39672', '3'], ['Vlasland, Leusden-Zuid, Leusden, Utrecht, Netherlands, 3833 CN, Netherlands', '52.13056, 5.41896', '5'], ['Aresstraat, Homeruskwartier, Almere Poort, Almere, Flevoland, Netherlands, 1363 VJ, Netherlands', '52.355, 5.1528', '3'], ['Clark Gablestraat, Filmwijk, Almere Stad, Almere, Flevoland, Netherlands, 1325 HG, Netherlands', '52.37021, 5.23059', '3'], ['Kempenaar 28, Kempenaar, Lelystad, Flevoland, Netherlands, 8231 CT, Netherlands', '52.51644, 5.46809', '5'], ['Archipel 20, Archipel, Lelystad, Flevoland, Netherlands, 8224 GX, Netherlands', '52.51, 5.48749', '5'], ['Bordewijklaan, De Wijert South, De Wijert, South, Groningen, Netherlands, 9721 TN, Netherlands', '53.19073, 6.57075', '5'], ['Via Roma, Umberto I, La Spezia, Follo, La Spezia, Liguria, 19121, Italy', '44.10919, 9.81281', '2'], ['Via Corte Fiorita, Lido di Camaiore, Camaiore, Unione dei comuni della Versilia, Lucca, Tuscany, 55043, Italy', '43.89445, 10.23342', '2'], ['Via Cardinale Ermenegildo Pellegrinetti, Lido di Camaiore, Camaiore, Unione dei comuni della Versilia, Lucca, Tuscany, 55043, Italy', '43.89228, 10.22943', '2'], ['Via Pierluigi Da Palestrina, Viareggio, Unione dei comuni della Versilia, Lucca, Tuscany, 55043, Italy', '43.88589, 10.24248', '2'], ['Via Misurata, Rosignano Solvay, Rosignano Marittimo, Livorno, Tuscany, 57016, Italy', '43.39487, 10.44286', '2'], ['Via Umberto Terracini, Rosignano Solvay, Rosignano Marittimo, Livorno, Tuscany, 57013, Italy', '43.39052, 10.43273', '2'], ['Via Monte Nevoso, Cecina, Livorno, Tuscany, 57023, Italy', '43.30262, 10.52438', '2'], ['Via Ezio, Prati, Municipio Roma I, Rome, Roma Capitale, Lazio, 00192, Italy', '41.90946, 12.46633', '1'], ['Lido di Lavinio, Lido di Enea, Lavinio, Anzio, Roma Capitale, Lazio, 00042, Italy', '41.50526, 12.5913', '5'], ['Viale delle Pratoline, Vignarola, Lido di Enea, Lavinio, Anzio, Roma Capitale, Lazio, 00042, Italy', '41.4994, 12.59337', '5'], [\"Corso San Francesco, Sant'Olivo, Lido di Enea, Lavinio, Anzio, Roma Capitale, Lazio, 00042, Italy\", '41.49407, 12.59088', '5'], ['Lido di Cincinnato, Anzio, Piscinari, Anzio, Roma Capitale, Lazio, 00042, Italy', '41.48936, 12.60124', '5'], ['Viale Adriatico, Anzio, Villa Claudia, Anzio, Roma Capitale, Lazio, 00042, Italy', '41.4874, 12.6098', '5'], ['Anzio, Villa Claudia, Anzio, Roma Capitale, Lazio, 00042, Italy', '41.48088, 12.61232', '5'], ['Via Grosseto, Anzio, Falasche, Anzio, Roma Capitale, Lazio, 00042, Italy', '41.48194, 12.61979', '5'], ['Piscinari, Lavinio, Anzio, Roma Capitale, Lazio, 00042, Italy', '41.50274, 12.60973', '5'], ['Via Castagna, Scauri, Tremensuoli Vecchio, Tremensuoli, Minturno, Latina, Lazio, 04028, Italy', '41.25679, 13.71264', '5'], ['Baia Domizia, Cellole, Caserta, Campania, Italy', '41.18051, 13.82221', '5'], ['Via Risorgimento, Zaera, IV Circoscrizione, Messina, Sicily, 98123, Italy', '38.18427, 15.55276', '1'], ['Viale San Martino, Zaera, IV Circoscrizione, Messina, Sicily, 98123, Italy', '38.18114, 15.55197', '1'], ['Via della Libertà, VIII Circoscrizione, Palermo, Sicily, 90139, Italy', '38.12843, 13.35313', '1'], ['Via Nensi, Marina di Ragusa, Ragusa, Sicily, 97010, Italy', '36.78581, 14.555', '1'], ['Via Napoli, Pozzallo, Ragusa, Sicily, 97016, Italy', '36.72668, 14.84187', '1'], ['Via Ruggero Settimo, Tre Colli, Pachino, Siracusa, Sicily, 96018, Italy', '36.7175, 15.0933', '5'], ['Via Agostino Depretis, Pachino, Siracusa, Sicily, 96018, Italy', '36.7138, 15.0899', '5'], ['Via Piave, Surbo, Lecce, Apulia, Italy', '40.39137, 18.13434', '1'], ['Via Dulcinea, Cala di Rosamarina, Rosa Marina di Ostuni, Ostuni, Brindisi, Apulia, Italy', '40.79642, 17.55189', '3'], ['Via Vittorio Emanuele, Adelfia, Bari, Apulia, Italy', '41.00001, 16.86743', '2'], ['Via Pasubio, San Pasquale, Municipio 2, Bari, Apulia, 70125, Italy', '41.11014, 16.87165', '2'], ['Via Dante Alighieri, Libertà, Municipio 1, Bari, Apulia, 70121, Italy', '41.1217, 16.8629', '1'], ['Via Eugenia Ravasco, Pescara, Abruzzo, 65123, Italy', '42.47933, 14.19831', '2'], ['Viale Taro, Alba, Riccione, Rimini, Emilia-Romagna, 47838, Italy', '44.00889, 12.63783', '2'], ['11, Viale Giovanni Pierluigi da Palestrina, Alba, Riccione, Rimini, Emilia-Romagna, 47383, Italy', '44.00868, 12.64969', '1'], ['Via del Cigno, Rimini, Emilia-Romagna, 47900, Italy', '44.05027, 12.56248', '2'], ['Via Albio Tibullo, Igea Marina, Igea, Bellaria-Igea Marina, Rimini, Emilia-Romagna, 47813, Italy', '44.13102, 12.48466', '1'], ['Viale Michelangelo Buonarroti, Valverde, Cesenatico, Unione Rubicone e mare, Forlì-Cesena, Emilia-Romagna, 47042, Italy', '44.1795, 12.424', '2'], ['Viale Equador, Lido delle Nazioni, Comacchio, Ferrara, Emilia-Romagna, 44022, Italy', '44.7353, 12.2373', '4'], ['Viale Repubblica di San Marino, Villaggio Galattico, Lido delle Nazioni, Comacchio, Ferrara, Emilia-Romagna, 44022, Italy', '44.7464, 12.2409', '2'], ['Via Anna Frank, Santa Maria Maddalena, Occhiobello, Rovigo, Veneto, Italy', '44.89762, 11.6093', '2'], ['Via Giuseppe Mazzini, Quartiere Giorgella, Corsico, Milan, Lombardy, 20094, Italy', '45.43335, 9.11562', '2'], ['Via Bruno Buozzi, Grancino, Buccinasco, Milan, Lombardy, 20090, Italy', '45.42536, 9.1142', '2'], ['Via Aldo Moro, Cascina Bazzana, Assago, Milan, Lombardy, 20057, Italy', '45.41186, 9.13436', '4'], ['Via Don Bartolomeo Grazioli, Pinzano, Limbiate, Monza and Brianza, Lombardy, 20812, Italy', '45.5975, 9.1258', '2'], ['Via Venticinque Aprile, Caronno Milanese, Caronno Pertusella, Varese, Lombardy, 21042, Italy', '45.6009, 9.0482', '5'], ['Via Assen, Jesolo, Venezia, Veneto, 30017, Italy', '45.5178, 12.6752', '2'], ['Valdebečki put, Dolinka, Valdebek, Grad Pula, Istria County, 52100, Croatia', '44.85339, 13.86815', '4'], ['Vukovarska ulica, Punta, Kaštanjer, Grad Pula, Istria County, 52103, Croatia', '44.87047, 13.852', '2'], ['Paška ulica, Gradska četvrt Jug II, Osijek, Grad Osijek, Osijek-Baranja County, 31103, Croatia', '45.54756, 18.71825', '4'], ['Vrela Ribnička, Podgorica, Podgorica Capital City, 20000, Montenegro', '42.42647, 19.29683', '2'], ['Miljana Vukova, Drač, Podgorica, Podgorica Capital City, 81110, Montenegro', '42.44133, 19.26416', '1'], ['Petra Prlje, Stara Varoš, Podgorica, Podgorica Capital City, 81108, Montenegro', '42.43474, 19.25733', '4'], ['Rruga Nikoll Zadrima, Kiras, Lagjja 1, Shkoder, Shkodër Municipality, Shkodër County, Northern Albania, 4001, Albania', '42.08099, 19.49704', '5'], ['Rruga Pjetër Bogdani, Blloku, Njësia Bashkiake Nr. 5, Tiranë, Tirana Municipality, Tirana County, Central Albania, 1019, Albania', '41.32123, 19.81718', '2'], ['Γρηγοριάδου Αθ., Κυπαρισσία, Kyparissia Municipal Unit, Municipality of Trifylia, Messenia Regional Unit, Peloponnese Region, Peloponnese, Western Greece and the Ionian, 245 00, Greece', '37.25208, 21.66558', '1'], ['Marathopoli, Gargalianoi Municipal Unit, Municipality of Trifylia, Messenia Regional Unit, Peloponnese Region, Peloponnese, Western Greece and the Ionian, 244 00, Greece', '37.05881, 21.57865', '1'], ['Κοινότητα Ερμιόνης, Municipal Unit of Ermioni, Municipality of Ermionida, Argolis Regional Unit, Peloponnese Region, Peloponnese, Western Greece and the Ionian, Greece', '37.34768, 23.2202', '3'], ['Ρ. Φεραίου, Αιξωνή, Eksoni, Municipality of Glyfada, Regional Unit of South Athens, Attica, 166 74, Greece', '37.86165, 23.76665', '1'], ['Λυκούργου, Voula Community, Voula Municipal Unit, Municipality of Vari - Voula - Vouliagmeni, Regional Unit of East Attica, Attica, 166 73, Greece', '37.84675, 23.76339', '3'], ['Ζακύνθου, Voula Community, Voula Municipal Unit, Municipality of Vari - Voula - Vouliagmeni, Regional Unit of East Attica, Attica, 166 73, Greece', '37.85043, 23.77738', '3'], ['Δελφών, Terpsithea, Municipality of Glyfada, Regional Unit of South Athens, Attica, 165 61, Greece', '37.88683, 23.76683', '1'], ['1ο Ειδικό Δημοτικό Σχολείο & Νηπιαγωγείο Αγίου Δημητρίου, 56, Ρεθύμνης, Άγιος Δημήτριος, Municipality of Agios Dimitrios, Regional Unit of South Athens, Attica, 173 42, Greece', '37.92687, 23.72839', '2'], ['Λαβυρίνθου Κρήτης, Άγιος Δημήτριος, Municipality of Agios Dimitrios, Regional Unit of South Athens, Attica, 173 41, Greece', '37.92814, 23.73083', '2'], ['Αλκυόνης, Palmyra, Phloisvos, Αμφιθέα, Palaio Faliro, Municipality of Palaio Faliro, Regional Unit of South Athens, Attica, 175 61, Greece', '37.92482, 23.69686', '1'], ['Κέκροπος, Λόφος Φιλαρέτου, 2nd District of Kallithea, Kallithea, Municipality of Kallithea, Regional Unit of South Athens, Attica, 176 74, Greece', '37.94779, 23.69415', '1'], ['MA, Κουντουριώτου, Πηγάδα, 1st District of Piraeus, Piraeus, Municipality of Piraeus, Regional Unit of Piraeus, Attica, 185 37, Greece', '37.93571, 23.64369', '1'], ['Ολύνθου, Ταμπούρια, 5th District of Piraeus, Piraeus, Municipality of Piraeus, Regional Unit of Piraeus, Attica, 185 46, Greece', '37.95537, 23.63038', '1'], ['Ολύνθου, Ταμπούρια, 5th District of Piraeus, Piraeus, Municipality of Piraeus, Regional Unit of Piraeus, Attica, 185 46, Greece', '37.95541, 23.63484', '1'], ['Καλλικρατίδα, Ταμπούρια, 5th District of Piraeus, Piraeus, Municipality of Piraeus, Regional Unit of Piraeus, Attica, 185 46, Greece', '37.9611, 23.6307', '1'], ['Καπετάν Γέρμα, Ταμπούρια, 5th District of Piraeus, Piraeus, Municipality of Piraeus, Regional Unit of Piraeus, Attica, 185 44, Greece', '37.96103, 23.63614', '1'], ['Λαοδικείας, Municipal Unit of Nikaia, Municipality of Nikaia-Agios Ioannis Rentis, Regional Unit of Piraeus, Attica, 185 44, Greece', '37.96583, 23.63592', '3'], ['Μαλαγαρδη Δ., Korydallos, Municipality of Korydallos, Regional Unit of Piraeus, Attica, 184 53, Greece', '37.9736, 23.65134', '1'], ['Αγίου Νικολάου, Korydallos, Municipality of Korydallos, Regional Unit of Piraeus, Attica, 181 21, Greece', '37.98355, 23.6567', '1'], ['Ανδρομάχης, Λόφος Φιλαρέτου, 2nd District of Kallithea, Kallithea, Municipality of Kallithea, Regional Unit of South Athens, Attica, 176 72, Greece', '37.9565, 23.7093', '1'], ['Καραολή & Δημητρίου, Municipal Unit of Nikaia, Municipality of Nikaia-Agios Ioannis Rentis, Regional Unit of Piraeus, Attica, 184 53, Greece', '37.96838, 23.64477', '1'], ['Αγίου Νικολάου, Korydallos, Municipality of Korydallos, Regional Unit of Piraeus, Attica, 181 21, Greece', '37.98376, 23.65619', '1'], ['Χρυσοστόμου Σμύρνης, Ano Petroupoli, Petroupoli, Municipality of Petroupoli, Regional Unit of West Athens, Attica, 132 31, Greece', '38.04611, 23.68025', '1'], ['Μάρκου Μπότσαρη, Κηπούπολη, Petroupoli, Municipality of Petroupoli, Regional Unit of West Athens, Attica, 121 37, Greece', '38.03596, 23.67966', '1'], ['Αγίου Νικολάου, Municipal Unit of Kamatero, Municipality of Ilion, Regional Unit of West Athens, Attica, 131 23, Greece', '38.0487, 23.69633', '2'], ['Φαιστου, Μιχελή, Ilion, Municipality of Ilion, Regional Unit of West Athens, Attica, 131 23, Greece', '38.03838, 23.70218', '1'], ['Ηροδότου, Μιχελή, Ilion, Municipality of Ilion, Regional Unit of West Athens, Attica, 131 23, Greece', '38.03807, 23.69625', '2'], ['Αργυροκάστρου, Μιχελή, Ilion, Municipality of Ilion, Regional Unit of West Athens, Attica, 131 23, Greece', '38.04317, 23.6981', '2'], ['65, Ιωσήφ Μομφεράτου, Gyzi Suburb, 7th District of Athens, Athens, Municipality of Athens, Regional Unit of Central Athens, Attica, 114 75, Greece', '37.9909, 23.74687', '1'], ['13, Μοσχονησίων, Kaisariani, Municipality of Kaisariani, Regional Unit of Central Athens, Attica, 161 21, Greece', '37.96951, 23.75923', '1'], ['Χαριδίμου, Vyronas, Municipality of Vyronas, Regional Unit of Central Athens, Attica, 162 32, Greece', '37.96113, 23.74743', '2'], ['Χρυσανθέμων, Zografou, Municipality of Zografos, Regional Unit of Central Athens, Attica, 157 73, Greece', '37.97301, 23.77781', '1'], ['70, Ιωσήφ Μομφεράτου, Gyzi Suburb, 7th District of Athens, Athens, Municipality of Athens, Regional Unit of Central Athens, Attica, 115 28, Greece', '37.99112, 23.74538', '1'], ['Ανδριτσαίνης, Rizoupolis Suburb, 5th District of Athens, Athens, Municipality of Athens, Regional Unit of Central Athens, Attica, 111 42, Greece', '38.02566, 23.74886', '1'], ['Δεκελείας, Παραδοσιακός Οικισμός, Nea Filadelfia, Municipal Unit of Nea Filadelfeia, Municipality of Nea Philadelfia - Nea Chalkidona, Regional Unit of Central Athens, Attica, 143 41, Greece', '38.0338, 23.73781', '3'], ['ΑΣΤΥΝΟΜΙΑ, Πίνδου, Νέα Μάδυτος, Nea Filadelfia, Municipal Unit of Nea Filadelfeia, Municipality of Nea Philadelfia - Nea Chalkidona, Regional Unit of Central Athens, Attica, 143 41, Greece', '38.04029, 23.73839', '3'], ['5x5 Soccer Field, Τσαλδάρη, Νεάπολη, Νέα Ιωνία, Municipality of Nea Ionia, Regional Unit of North Athens, Attica, 142 33, Greece', '38.03406, 23.7635', '5'], ['Ζωοδόχου Πηγής, Καλογρέζα, Νέα Ιωνία, Municipality of Nea Ionia, Regional Unit of North Athens, Attica, 141 21, Greece', '38.03847, 23.76699', '1'], ['Παναιτώλιο, Κασταμονής, Καλογρέζα, Νέα Ιωνία, Municipality of Nea Ionia, Regional Unit of North Athens, Attica, 142 35, Greece', '38.03486, 23.77624', '3'], ['Καναπίτσα, Metamorfosi, Municipality of Metamorfosi, Regional Unit of North Athens, Attica, 144 51, Greece', '38.05237, 23.75499', '2'], ['Iraklio, Municipality of Iraklio Attikis, Regional Unit of North Athens, Attica, Greece', '38.04522, 23.76298', '3'], ['Ελευθερίας, Agia Filothei, Marousi, Municipality of Marousi, Regional Unit of North Athens, Attica, 15123, Greece', '38.0297, 23.78382', '3'], ['Βασίλισσας Φρειδερίκης, Community of Filothei, Municipal Unit of Filothei, Municipality of Filothei - Psychiko, Regional Unit of North Athens, Attica, 152 37, Greece', '38.02225, 23.78607', '3'], ['D. Diamantidou Avenue, Psychiko, Community of Psychiko, Municipal Unit of Psychiko, Municipality of Filothei - Psychiko, Regional Unit of North Athens, Attica, 154 52, Greece', '38.0148, 23.7715', '3'], ['Καμάρα, Psychiko, Community of Psychiko, Municipal Unit of Psychiko, Municipality of Filothei - Psychiko, Regional Unit of North Athens, Attica, 154 51, Greece', '38.01143, 23.77744', '3'], ['25ης Μαρτίου, Psychiko, Community of Psychiko, Municipal Unit of Psychiko, Municipality of Filothei - Psychiko, Regional Unit of North Athens, Attica, 154 52, Greece', '38.00709, 23.77457', '3'], ['Γεωργίου Μπούσιου, Ερυθρός Σταυρός, Ambelokipoi, 7th District of Athens, Athens, Municipality of Athens, Regional Unit of Central Athens, Attica, 115 25, Greece', '37.99325, 23.77202', '2'], ['28ης Οκτωβρίου, Φάρος, Neo Psychiko, Community of Neo Psychiko, Municipal Unit of Neo Psychiko, Municipality of Filothei - Psychiko, Regional Unit of North Athens, Attica, 154 51, Greece', '38.00531, 23.78283', '1'], ['Κύπρου, Συνοικισμός, Chalandri, Municipality of Chalandri, Regional Unit of North Athens, Attica, 151 23, Greece', '38.02877, 23.79436', '1'], ['Αχαιών, Κοντόπευκο, Agia Paraskevi, Municipality of Agia Paraskevi, Regional Unit of North Athens, Attica, 153 43, Greece', '38.02061, 23.83151', '2'], ['Χίου, Κοντόπευκο, Agia Paraskevi, Municipality of Agia Paraskevi, Regional Unit of North Athens, Attica, 153 43, Greece', '38.01927, 23.82436', '2'], ['Αρκαδιου, Cholargos, Community of Cholargos, Municipal Unit of Cholargos, Municipality of Papagos - Cholargos, Regional Unit of North Athens, Attica, 155 62, Greece', '38.00623, 23.80653', '2'], ['Χρυσοστόμου Σμύρνης, Cholargos, Community of Cholargos, Municipal Unit of Cholargos, Municipality of Papagos - Cholargos, Regional Unit of North Athens, Attica, 155 62, Greece', '37.99637, 23.80581', '3'], ['Κατσιμπίρη, Cholargos, Community of Cholargos, Municipal Unit of Cholargos, Municipality of Papagos - Cholargos, Regional Unit of North Athens, Attica, 155 61, Greece', '37.99827, 23.79435', '1'], ['48, Γρηγορίου Κουσίδη, Zografou, Municipality of Zografos, Regional Unit of Central Athens, Attica, 157 73, Greece', '37.97267, 23.77827', '1'], ['Αιγισθου, Άγιος Αρτέμιος, 2nd District of Athens, Athens, Municipality of Athens, Regional Unit of Central Athens, Attica, 116 31, Greece', '37.95663, 23.74122', '2'], ['Αγίας Παρασκευής, Vyronas, Municipality of Vyronas, Regional Unit of Central Athens, Attica, 116 32, Greece', '37.96184, 23.74763', '2'], ['Αγίου Κωνσταντίνου, Ilioupoli, Municipality of Ilioupoli, Regional Unit of Central Athens, Attica, 173 43, Greece', '37.93942, 23.74387', '2'], ['Ilioupoli, Municipality of Ilioupoli, Regional Unit of Central Athens, Attica, 163 45, Greece', '37.93211, 23.75639', '3'], ['Κυπρίων Ηρώων, Ilioupoli, Municipality of Ilioupoli, Regional Unit of Central Athens, Attica, 163 41, Greece', '37.92528, 23.75118', '3'], ['Τυσσάνδρου, Ilioupoli, Municipality of Ilioupoli, Regional Unit of Central Athens, Attica, 163 41, Greece', '37.92133, 23.75083', '3'], ['Φιλικής Εταιρείας, Πατητήρι, Αργυρούπολη, Municipal Unit of Argyroupoli, Municipality of Elliniko - Argyroupoli, Regional Unit of South Athens, Attica, 164 51, Greece', '37.90986, 23.75472', '1'], ['156, Μικράς Ασίας, Τερψιθέα, Terpsithea, Municipality of Glyfada, Regional Unit of South Athens, Attica, 165 62, Greece', '37.90143, 23.77217', '3'], ['Τριπόλεως, Terpsithea, Municipality of Glyfada, Regional Unit of South Athens, Attica, 165 61, Greece', '37.88712, 23.76581', '1'], ['10, Δρίβα, Πειραϊκή, 1st District of Piraeus, Piraeus, Municipality of Piraeus, Regional Unit of Piraeus, Attica, 185 39, Greece', '37.9312, 23.62947', '2'], ['25A, Κρεββατά, Υδραίικα, 1st District of Piraeus, Piraeus, Municipality of Piraeus, Regional Unit of Piraeus, Attica, 185 38, Greece', '37.93469, 23.63751', '1'], ['MA, Κουντουριώτου, Πηγάδα, 1st District of Piraeus, Piraeus, Municipality of Piraeus, Regional Unit of Piraeus, Attica, 185 37, Greece', '37.9356, 23.6437', '1'], ['Πετμεζά, Προφήτης Ηλίας, 2nd District of Piraeus, Piraeus, Municipality of Piraeus, Regional Unit of Piraeus, Attica, 185 33, Greece', '37.93801, 23.6558', '3'], ['ΣΤΡΑΪΤΟΥΡΗΣ, Πραξιτέλους, Zea (Pasalimani), 2nd District of Piraeus, Piraeus, Municipality of Piraeus, Regional Unit of Piraeus, Attica, 185 32, Greece', '37.94407, 23.65036', '1'], ['Ολύνθου, Ταμπούρια, 5th District of Piraeus, Piraeus, Municipality of Piraeus, Regional Unit of Piraeus, Attica, 185 46, Greece', '37.95548, 23.63093', '1'], ['Σπάρτης, Ταμπούρια, 5th District of Piraeus, Piraeus, Municipality of Piraeus, Regional Unit of Piraeus, Attica, 185 46, Greece', '37.96099, 23.63094', '1'], ['Καπετάν Ματάπα, Μανιάτικα, 5th District of Piraeus, Piraeus, Municipality of Piraeus, Regional Unit of Piraeus, Attica, 185 44, Greece', '37.96037, 23.63742', '1'], ['Θεσσαλίας, Perama, Municipality of Perama, Regional Unit of Piraeus, Attica, 188 63, Greece', '37.9657, 23.5705', '2'], ['Ασκληπιού, Αγία Σοφία, 5th District of Piraeus, Piraeus, Municipality of Piraeus, Regional Unit of Piraeus, Attica, 185 43, Greece', '37.95714, 23.6437', '1'], ['Αρχιμήδους, Municipal Unit of Nikaia, Municipality of Nikaia-Agios Ioannis Rentis, Regional Unit of Piraeus, Attica, 185 44, Greece', '37.96623, 23.63563', '3'], ['Σόλωνος, Αμφιάλη, Keratsini, Municipal Unit of Keratsini, Municipality of Keratsini-Drapetsona, Regional Unit of Piraeus, Attica, 187 58, Greece', '37.96816, 23.61415', '2'], ['Φιλαδελφείας, Municipal Unit of Nikaia, Municipality of Nikaia-Agios Ioannis Rentis, Regional Unit of Piraeus, Attica, 184 53, Greece', '37.97399, 23.64317', '1'], ['Μαλαγαρδη Δ., Korydallos, Municipality of Korydallos, Regional Unit of Piraeus, Attica, 184 53, Greece', '37.97354, 23.65068', '1'], ['ΠΕΛΟΠΟΝΝΗΣΟΥ, Τραπεζούντος, Korydallos, Municipality of Korydallos, Regional Unit of Piraeus, Attica, 181 21, Greece', '37.98312, 23.65676', '1'], ['Μαρμαρά, Σωτηράκη, Municipality of Aigaleo, Regional Unit of West Athens, Attica, 122 42, Greece', '37.99418, 23.6858', '1'], ['Αβονίτσης, Τσαλαβούτα, Peristeri, 4th District of Peristeri, Municipality of Peristeri, Regional Unit of West Athens, Attica, 121 31, Greece', '38.00184, 23.68948', '2'], ['Βοστίτσης, Μάσχα, Peristeri, 4th District of Peristeri, Municipality of Peristeri, Regional Unit of West Athens, Attica, 121 31, Greece', '38.00939, 23.69099', '2'], ['25ης Μαρτίου, Νέα Κολοκυνθού, 3rd District of Peristeri, Municipality of Peristeri, Regional Unit of West Athens, Attica, 121 32, Greece', '38.00695, 23.70438', '2'], ['Κακλαμάνου, Νέα Σεπόλια (Μπουρνάζι), 3rd District of Peristeri, Municipality of Peristeri, Regional Unit of West Athens, Attica, 121 33, Greece', '38.01575, 23.69816', '2'], ['Χανίων, Νέα Σεπόλια (Μπουρνάζι), 3rd District of Peristeri, Municipality of Peristeri, Regional Unit of West Athens, Attica, 121 33, Greece', '38.02033, 23.70081', '2'], ['Αλαμάνας, Πολυτέκνων, Ilion, Municipality of Ilion, Regional Unit of West Athens, Attica, 121 33, Greece', '38.02524, 23.70603', '2'], ['Δημαρχείο Ιλίου, 48, Κάλχου, Πολυτέκνων, Ilion, Municipality of Ilion, Regional Unit of West Athens, Attica, 131 22, Greece', '38.02997, 23.70836', '1'], ['Αιακού, Ριμινιτών, Ilion, Municipality of Ilion, Regional Unit of West Athens, Attica, 131 22, Greece', '38.03626, 23.70869', '1'], ['Κοσμά Αιτωλού, Γεροβουνό, Municipal Unit of Kamatero, Municipality of Agioi Anargyroi-Kamatero, Regional Unit of West Athens, Attica, 135 62, Greece', '38.05468, 23.72733', '2'], ['Συνταγματάρχου Δαβάκη, Μιχελή, Ilion, Municipality of Ilion, Regional Unit of West Athens, Attica, 131 23, Greece', '38.04426, 23.69655', '2'], ['25ης Μαρτίου, Ano Petroupoli, Petroupoli, Municipality of Petroupoli, Regional Unit of West Athens, Attica, 132 31, Greece', '38.04457, 23.67921', '1'], ['Τσακάλωφ, Κηπούπολη, Petroupoli, Municipality of Petroupoli, Regional Unit of West Athens, Attica, 132 31, Greece', '38.03616, 23.68014', '1'], ['Kriezotou, Χρυσούπολη, 1st District of Peristeri, Municipality of Peristeri, Regional Unit of West Athens, Attica, 121 37, Greece', '38.02571, 23.67357', '2'], ['Μενίππου, Άσπρα Χώματα, 1st District of Peristeri, Municipality of Peristeri, Regional Unit of West Athens, Attica, 121 37, Greece', '38.02475, 23.67997', '2'], ['Ηρακλειδών, Άσπρα Χώματα, 1st District of Peristeri, Municipality of Peristeri, Regional Unit of West Athens, Attica, 121 37, Greece', '38.02179, 23.68037', '2'], ['Κοτζιά, Νέα Ζωή, 2nd District of Peristeri, Municipality of Peristeri, Regional Unit of West Athens, Attica, 124 61, Greece', '38.01688, 23.67451', '2'], ['Στρατηγού Γεωργίου Κονδύλη, Νέα Ζωή, 2nd District of Peristeri, Municipality of Peristeri, Regional Unit of West Athens, Attica, 122 43, Greece', '38.01157, 23.67402', '2'], ['1ο Γυμνάσιο - 1ο Λύκειο Άνω Λιοσίων, Σεμερτζίδη, Άγιος Νικόλαος, Ano Liosia, Community of Ano Liosia, Municipal Unit of Ano Liosia, Municipality of Fyli, Regional Unit of West Attica, Attica, 133 41, Greece', '38.07465, 23.70298', '2'], ['Καραϊσκάκη, Άγιος Γεώργιος, Ano Liosia, Community of Ano Liosia, Municipal Unit of Ano Liosia, Municipality of Fyli, Regional Unit of West Attica, Attica, 133 43, Greece', '38.08706, 23.6972', '2'], ['34, Φιλελλήνων, Community of Acharnes, Municipal Unit of Acharnes, Municipality of Acharnes, Regional Unit of East Attica, Attica, 136 74, Greece', '38.09628, 23.73251', '2'], ['Ορφέως, Community of Thrakomakedones, Municipal Unit of Thrakomakedones, Municipality of Acharnes, Regional Unit of East Attica, Attica, 136 76, Greece', '38.1298, 23.7594', '3'], ['Πεντέλης, Kifissia, Municipality of Kifisia, Regional Unit of North Athens, Attica, 145 63, Greece', '38.07305, 23.82745', '1'], ['Ροδόπης, Άνω Βριλήσσια, Vrilíssia, Municipality of Vrilissia, Regional Unit of North Athens, Attica, 152 38, Greece', '38.03902, 23.83916', '2'], ['Ηρακλέους, Γαργηττός, Gerakas, Gerakas Community, Gerakas Municipal Unit, Municipality of Pallini, Regional Unit of East Attica, Attica, 153 44, Greece', '38.02442, 23.84882', '2'], ['Πευκών, Gerakas Community, Gerakas Municipal Unit, Municipality of Pallini, Regional Unit of East Attica, Attica, 153 44, Greece', '38.03043, 23.85101', '2'], ['Κερδυλλίων, Gerakas, Gerakas Community, Gerakas Municipal Unit, Municipality of Pallini, Regional Unit of East Attica, Attica, 153 44, Greece', '38.02303, 23.86044', '2'], ['Πανδώρας, Averof, Larissa, Municipality of Larissa, Larisa Regional Unit, Thessaly, Thessaly and Central Greece, 413 35, Greece', '39.605, 22.42966', '2'], ['Γεωργίου Νεγρεπόντη, Nea Politia, Larissa, Municipality of Larissa, Larisa Regional Unit, Thessaly, Thessaly and Central Greece, 413 35, Greece', '39.61393, 22.41574', '2'], ['Agios Georgios, Larissa, Municipality of Larissa, Larisa Regional Unit, Thessaly, Thessaly and Central Greece, 410 02, Greece', '39.63008, 22.45117', '2'], ['Παλιό Εργοστάσιο Μαγρίζος, Γιάννουλης - Αμπελώνα, Giannouli, Municipality of Larissa, Larisa Regional Unit, Thessaly, Thessaly and Central Greece, 415 00, Greece', '39.66654, 22.39631', '2'], ['Πλατύκαμπος, Kileler Municipality, Larisa Regional Unit, Thessaly, Thessaly and Central Greece, 400 09, Greece', '39.62181, 22.53726', '4'], ['Βενιζέλου, Χάλκη, Kileler Municipality, Larisa Regional Unit, Thessaly, Thessaly and Central Greece, 415 00, Greece', '39.5665, 22.5428', '1'], ['Armeni, Kileler Municipality, Larisa Regional Unit, Thessaly, Thessaly and Central Greece, 415 00, Greece', '39.48896, 22.69797', '1'], ['Agios Georgios Feron, Rigas Feraios Municipality, Regional Unit of Magnesia, Thessaly, Thessaly and Central Greece, 375 00, Greece', '39.37741, 22.77916', '1'], ['Γληνού, Άγιος Γεώργιος, Volos Municipality, Regional Unit of Magnesia, Thessaly, Thessaly and Central Greece, 382 21, Greece', '39.37489, 22.963', '2'], ['Σειληνού, Νέα Δημητριάδα, Volos Municipality, Regional Unit of Magnesia, Thessaly, Thessaly and Central Greece, 382 22, Greece', '39.35887, 22.97082', '2'], ['Ελλησπόντου, Άγιος Κοσμάς, Evosmos, Evosmos Community, Municipal Unit of Evosmo, Kordelio - Evosmos Municipality, Thessaloniki Regional Unit, Central Macedonia, Macedonia and Thrace, 561 22, Greece', '40.66163, 22.90587', '2'], ['Nea Roda, Δήμος Αριστοτέλη, Chalkidiki Regional Unit, Central Macedonia, Macedonia and Thrace, 630 75, Greece', '40.38103, 23.92421', '1'], ['Τιτάνων, Νέα Βρασνά, Δήμος Βόλβης, Thessaloniki Regional Unit, Central Macedonia, Macedonia and Thrace, Greece', '40.70343, 23.69828', '1'], ['Villa Xsenia, Δελφών, Νέα Βρασνά, Δήμος Βόλβης, Thessaloniki Regional Unit, Central Macedonia, Macedonia and Thrace, Greece', '40.7101, 23.70216', '1'], ['Oksbølvej, Skyttehuse, Köge, Køge Municipality, Region Zealand, 4600, Denmark', '55.47444, 12.16056', '4'], ['Ørbækvænge, Ølsemagle Strand, Køge Municipality, Region Zealand, 4600, Denmark', '55.49572, 12.18696', '5'], ['Agerbækvej, Ølsemagle Strand, Køge Municipality, Region Zealand, 2680, Denmark', '55.49814, 12.19097', '5'], ['Ølsemagle Strand, Køge Municipality, Region Zealand, Denmark', '55.50064, 12.18147', '4'], ['12, Værkstedsvej, Ølsemagle Strand, Køge Municipality, Region Zealand, 4600, Denmark', '55.50214, 12.19126', '4'], ['8, Åbuen, Karlslunde, Greve, Greve Municipality, Region Zealand, 2690, Denmark', '55.56103, 12.25928', '4'], ['Toppen, Trekroner, Roskilde, Roskilde Municipality, Region Zealand, Denmark', '55.65942, 12.14491', '4'], ['Frøgård Alle, Kraghave, Høje Taastrup, Taastrup, Høje-Taastrup Municipality, Capital Region of Denmark, 2630, Denmark', '55.65157, 12.24681', '4'], ['Råbrovej, Smørumnedre, Egedal Municipality, Capital Region of Denmark, 2765, Denmark', '55.73466, 12.29124', '4'], ['Råbroparken, Smørumnedre, Egedal Municipality, Capital Region of Denmark, 2765, Denmark', '55.73429, 12.28847', '4'], ['Grönfinksgatan, Maria Park, Mariastaden, Helsingborg, Helsingborgs kommun, Skåne County, 254 51, Sweden', '56.08357, 12.68969', '4'], ['5, Kungsljusgatan, Ramlösagården, Gustavslund, Helsingborg, Helsingborgs kommun, Skåne County, 256 67, Sweden', '56.0323, 12.75306', '4'], ['Näckrosgatan, Bunkeflostrand, Väster, Bunkeflostrand, Malmö kommun, Skåne County, 218 51, Sweden', '55.54152, 12.92431', '3'], ['Sundsbrovägen, Bunkeflostrand, Väster, Bunkeflostrand, Malmö kommun, Skåne County, 218 36, Sweden', '55.55304, 12.92587', '4'], ['Ekholmsgatan, Gullvik, Söder, Malmo, Malmö kommun, Skåne County, 213 74, Sweden', '55.5686, 13.03391', '4'], ['Mölledalsgatan, Bulltofta, Norr, Malmo, Malmö kommun, Skåne County, 212 39, Sweden', '55.60631, 13.0555', '4'], ['Åkvagnsgatan, RIseberga, Riseberga, Öster, Malmo, Malmö kommun, Skåne County, 201 25, Sweden', '55.60278, 13.09199', '4'], ['Klågerupsvägen, Gyllins trädgård, Östra Skrävlinge, Öster, Malmo, Malmö kommun, Skåne County, 212 36, Sweden', '55.58817, 13.10838', '4'], ['Sjöhästvägen, Gyllins trädgård, Östra Skrävlinge, Öster, Malmo, Malmö kommun, Skåne County, 212 36, Sweden', '55.58748, 13.10141', '4'], ['Slånbärsgatan, Videdal, Öster, Malmo, Malmö kommun, Skåne County, 212 28, Sweden', '55.59258, 13.05811', '4'], ['Apelgatan, Styvmorsviolen, Videdal, Öster, Malmo, Malmö kommun, Skåne County, 212 28, Sweden', '55.59478, 13.0584', '4'], ['Äppelvägen, Arlöv, Åkarp, Burlövs kommun, Skåne County, 232 53, Sweden', '55.65942, 13.10388', '4'], ['Myntevägen, Arlöv, Åkarp, Burlövs kommun, Skåne County, 232 53, Sweden', '55.66019, 13.10928', '4'], ['Aspgatan, Karstorp, Lomma, Lomma kommun, Skåne County, 234 41, Sweden', '55.66893, 13.08394', '4'], ['Jollegatan, Karstorp, Lomma, Lomma kommun, Skåne County, 234 31, Sweden', '55.66588, 13.07801', '4'], ['Ljunghustorget, Habo Ljung, Lomma, Lomma kommun, Skåne County, 234 34, Sweden', '55.69599, 13.05593', '4'], ['Domarevägen, Nya Bjärred, Bjärred, Lomma kommun, Skåne County, 237 41, Sweden', '55.73051, 13.01752', '4'], ['Södervångsvägen, Löddeköpinge, Kävlinge kommun, Skåne County, 246 36, Sweden', '55.76241, 13.02299', '4'], ['Södervångsvägen, Fridsbo, Kävlinge kommun, Skåne County, 246 36, Sweden', '55.76266, 13.0274', '4'], ['Söderparksvägen, Fridsbo, Kävlinge kommun, Skåne County, 246 36, Sweden', '55.7659, 13.02523', '4'], ['11, Lokes väg, Löddeköpinge, Kävlinge kommun, Skåne County, 246 30, Sweden', '55.75393, 13.00688', '4'], ['Furuhillsvägen, Ålstorp, Ålstorps by, Hofterup, Kävlinge kommun, Skåne County, 246 51, Sweden', '55.81052, 12.98205', '4'], ['18, Äppelrosgården, Häljarp, Landskrona kommun, Skåne County, 261 72, Sweden', '55.85633, 12.903', '4'], ['Flädervägen, Landskrona kommun, Skåne County, 261 72, Sweden', '55.85314, 12.90879', '4'], ['Olofstorpsvägen, Landskrona kommun, Skåne County, 261 72, Sweden', '55.85341, 12.91513', '4'], ['Segergatan, Nyvång, Västra Fäladen, Landskrona kommun, Skåne County, 261 46, Sweden', '55.89506, 12.82478', '4'], ['Flinthögsvägen, Flinthög, Trelleborg, Trelleborgs kommun, Skåne County, 231 68, Sweden', '55.38985, 13.14493', '4'], ['Sadelvägen, Svartesjö, Trelleborgs kommun, Skåne County, 231 32, Sweden', '55.36582, 13.21078', '4'], ['Jörgen Krabbes gata, Åkesholm, Ystad, Ystads kommun, Skåne County, 271 50, Sweden', '55.43477, 13.79442', '4'], ['Gröna gatan, Östraby, Simrishamn, Simrishamns kommun, Skåne County, 272 35, Sweden', '55.56083, 14.33338', '4'], ['Timotejvägen, Ljungalyckan, Sölvesborg, Gemeinde Sölvesborg, Blekinge County, 294 34, Sweden', '56.04302, 14.56517', '4'], ['Siretorpsvägen, Sölve, Sölvesborg, Gemeinde Sölvesborg, Blekinge County, 294 39, Sweden', '56.05586, 14.62234', '4'], ['Alfreds väg, Norjeboke, Norje, Gemeinde Sölvesborg, Blekinge County, 294 93, Sweden', '56.10969, 14.68803', '4'], ['Fräkenvägen, Nya Hulta, Ronneby, Gemeinde Ronneby, Blekinge County, 372 39, Sweden', '56.2121, 15.29283', '4'], ['Gamla Dalbyvägen, Dalby, Nättraby, Gemeinde Karlskrona, Blekinge County, 370 24, Sweden', '56.20476, 15.53815', '4'], ['Stävholmsgränd, Skärholmen, Skärholmens stadsdelsområde, Stockholms kommun, Stockholm County, 127 49, Sweden', '59.26939, 17.89942', '4'], ['Lindholmsbacken, Skärholmen, Skärholmens stadsdelsområde, Stockholms kommun, Stockholm County, 127 48, Sweden', '59.27006, 17.90549', '4'], ['Tumultgränd, Kälvesta, Hässelby-Vällingby stadsdelsområde, Stockholms kommun, Stockholm County, 162 47, Sweden', '59.38518, 17.85196', '4'], ['Tenorgränd, Kälvesta, Hässelby-Vällingby stadsdelsområde, Stockholms kommun, Stockholm County, 162 47, Sweden', '59.38445, 17.85964', '4'], ['Dammtorps Allé, Råstahem, Järva, Solna kommun, Sundbybergs kommun, Stockholm County, 170 62, Sweden', '59.3835, 17.98172', '3'], ['Kryddgårdsvägen, Enebyberg, Danderyds kommun, Stockholm County, 182 49, Sweden', '59.43544, 18.03294', '4'], ['Rospiggsvägen, Röhäll, Viggbyholm, Täby kommun, Stockholm County, 183 62, Sweden', '59.4408, 18.1184', '3'], ['Pärlvägen, Gåshaga, Hustega, Lidingö kommun, Stockholm County, 181 64, Sweden', '59.36127, 18.22196', '4'], ['Litsbyvägen, Skarpäng, Täby, Täby kommun, Stockholm County, 187 33, Sweden', '59.45063, 18.02833', '4'], ['Luxgatan, Lilla Essingen, Kungsholmens stadsdelsområde, Stockholms kommun, Stockholm County, 112 67, Sweden', '59.32393, 18.00506', '4'], ['Stävholmsgränd, Skärholmen, Skärholmens stadsdelsområde, Stockholms kommun, Stockholm County, 127 49, Sweden', '59.26929, 17.89926', '4'], ['Tornfalksvägen, Herrängen, Hägersten-Älvsjö stadsdelsområde, Stockholms kommun, Stockholm County, 125 56, Sweden', '59.27392, 17.97694', '4'], ['Olympiavägen, Enskede, Farsta stadsdelsområde, Stockholms kommun, Stockholm County, 122 40, Sweden', '59.26868, 18.08769', '3'], ['Ekängsgränd, Strand, Tyresö strand, Tyresö, Tyresö kommun, Stockholm County, 135 63, Sweden', '59.25589, 18.2711', '4'], ['Storviltsvägen, Sunda, Oxelösund, Oxelösunds kommun, Södermanland County, 613 36, Sweden', '58.67765, 17.06882', '4'], ['Arkitektgatan, Glömsta, Torshälla, Eskilstuna kommun, Södermanland County, 644 30, Sweden', '59.40829, 16.49005', '4'], ['Höjdnätsvägen, Skälby, Västerås, Västerås kommun, Västmanland County, 724 55, Sweden', '59.5908, 16.45109', '4'], ['Barnwell Hansfield, Blanchardstown-Blakestown ED, Ongar, Fingal, Dublin 15, Leinster, D15 AE61, Ireland', '53.39176, -6.44257', '4'], ['The Avenue, Hansfield Wood, Blanchardstown-Blakestown ED, Ongar, Fingal, Dublin 15, Leinster, D15 EE7V, Ireland', '53.3896, -6.43521', '4'], ['Littlepace Woods, Littlepace, Blanchardstown-Blakestown ED, Ongar, Fingal, Dublin 15, Leinster, D15 WD5P, Ireland', '53.40442, -6.43059', '4'], ['Castlegrange Green, Castlegrange, Blanchardstown-Blakestown ED, Ongar, Fingal, Dublin 15, Leinster, D15 PY04, Ireland', '53.39909, -6.42928', '4'], ['Castlecurragh Vale, Blanchardstown-Mulhuddart ED, Mulhuddart, Fingal, Dublin 15, Leinster, D15 T1FD, Ireland', '53.40342, -6.3884', '4'], ['Fassaugh Avenue, Cabra, Cabra West B ED, Dublin, Dublin 7, Leinster, D07 VX44, Ireland', '53.36711, -6.29594', '3'], ['Glenaan Road, Whitehall B ED, Dublin, Dublin 9, Leinster, D09 KP73, Ireland', '53.38589, -6.24733', '3'], ['Iveleary Road, Gaeltacht Park, Drumcondra North C ED, Dublin, Dublin 9, Leinster, D09 C7F8, Ireland', '53.38201, -6.24842', '3'], ['Clanmaurice Road, Clontarf West B ED, Dublin, Dublin 5, Leinster, D05 Y4T8, Ireland', '53.37569, -6.21283', '3'], ['Drumfinn ED, Dublin, Dublin 10, Leinster, D20 DR77, Ireland', '53.3472, -6.3572', '3'], ['Clonmacnoise Road, Kimmage B ED, Dublin, Dublin 12, Leinster, D12 W62N, Ireland', '53.32259, -6.29989', '3'], [\"228, Carrer de Provença, l'Antiga Esquerra de l'Eixample, Eixample, Barcelona, Barcelonès, Barcelona, Catalonia, 08001, Spain\", '41.39182, 2.15767', '1'], [\"308, Carrer d'Aragó, la Dreta de l'Eixample, Eixample, Barcelona, Barcelonès, Barcelona, Catalonia, 08001, Spain\", '41.39452, 2.16803', '1'], [\"251, Carrer de Sicília, Gràcia Nova, el Camp d'en Grassot i Gràcia Nova, Gràcia, Barcelona, Barcelonès, Barcelona, Catalonia, 08001, Spain\", '41.40339, 2.17175', '1'], ['Carrer de Ramon Turró, la Vila Olímpica del Poblenou, Sant Martí, Barcelona, Barcelonès, Barcelona, Catalonia, 08001, Spain', '41.39458, 2.19581', '1'], [\"26, Carrer de Sant Sebastià, l'Eixample de Parets, Parets del Vallès, Vallès Oriental, Barcelona, Catalonia, 08150, Spain\", '41.558, 2.22195', '1'], [\"arrondissement de Hay Hassani مقاطعة الحي الحسني, préfecture d'arrondissement de Hay Hassani, Prefecture of Casablanca, Casablanca-Settat, Morocco\", '33.5457, -7.69295', '3'], [\"arrondissement de Hay Hassani مقاطعة الحي الحسني, préfecture d'arrondissement de Hay Hassani, Prefecture of Casablanca, Casablanca-Settat, Morocco\", '33.51302, -7.66955', '3'], ['ⵍⵓⵙⵙⵉⴷⵔ, Soualem, Pachalik de Had Soualem باشوية حد السوالم, Berrechid Province, Casablanca-Settat, 26400, Morocco', '33.42699, -7.80613', '3'], ['Haut Founty ⴼⵓⵏⵜⵉ ⵡⴼⵍⴰ فونتي العليا, Paschalik Agadir, Agadir Ida-Outanane Prefecture, Souss-Massa, 80007, Morocco', '30.39946, -9.57776', '3'], ['Al Farah ⵍⴼⴰⵔⴰⵃ الفرح, Paschalik Agadir, Agadir Ida-Outanane Prefecture, Souss-Massa, Morocco', '30.39922, -9.56396', '3'], ['Alaouda, Laayoune, Pachalik de Laâyoune باشوية العيون, Laayoune Province, 70004, Morocco', '27.13659, -13.15525', '2'], ['Alaouda, Laayoune, Pachalik de Laâyoune باشوية العيون, Laayoune Province, Morocco', '27.13489, -13.17259', '2'], ['Dajla, Dakhla, Pachalik de Dakhla باشوية الداخلة, Dakhla-Oued Ed-Dahab, Morocco', '23.6975, -15.94688', '2'], ['Nouadhibou, Dakhlet Nouadhibou, Mauritania', '20.94046, -17.04277', '2'], ['Nouakchott, السبخة, Nouakchott, Mauritania', '18.0734, -16.00724', '1'], ['Nouakchott, السبخة, Nouakchott, Mauritania', '18.06816, -16.00275', '1'], ['Nouakchott, السبخة, Nouakchott, Mauritania', '18.06262, -15.99936', '1'], ['Nouakchott, Las Palmas, Nouakchott, Mauritania', '18.10595, -16.00235', '1'], ['BMS, أبو بيكر بن عامر, Nouakchott, Ksar, Nouakchott, Mauritania', '18.10366, -15.95562', '1'], ['Etweymiret, Kiffa, Assaba, Mauritania', '16.61953, -11.39744', '1'], ['Boulevard Mohamed V شارع محمد الخامس, Nador, Pachalik de Nador باشوية الناظور, Nador Province, Oriental, 62003, Morocco', '35.18046, -2.92422', '1'], ['Hay karrakchou, Hay Al Majd, Berkane, Pachalik de Berkane باشوية بركان, Berkane Province, Oriental, Morocco', '34.94159, -2.33155', '3'], ['Pôle Urbain Ras El Ma, Ras El Ma, Ain Chkef, caïdat de Ain Chkef, cercle de Moulay Yacoub دائرة مولاي يعقوب, Province Moulay Yacoub, Fez-Meknes, Morocco', '33.97742, -5.08113', '3']]\n"
          ]
        }
      ],
      "source": [
        "from google.colab import auth\n",
        "auth.authenticate_user()\n",
        "\n",
        "import gspread\n",
        "from google.auth import default\n",
        "creds, _ = default()\n",
        "\n",
        "gc = gspread.authorize(creds)\n",
        "\n",
        "worksheet = gc.open('final dataset_locations').sheet1\n",
        "\n",
        "# get_all_values gives a list of rows.\n",
        "rows = worksheet.get_all_values()\n",
        "print(rows)\n",
        "\n",
        "import pandas as pd\n",
        "geocodes_dataframe = pd.DataFrame.from_records(rows)\n",
        "geocodes_dataframe, geocodes_dataframe.columns = geocodes_dataframe[1:] , geocodes_dataframe.iloc[0]"
      ]
    },
    {
      "cell_type": "code",
      "execution_count": null,
      "metadata": {
        "colab": {
          "base_uri": "https://localhost:8080/",
          "height": 424
        },
        "id": "J_Za9eHCXa0t",
        "outputId": "17b25b8e-d867-4b3a-ac9c-2ccfdc0941a8"
      },
      "outputs": [
        {
          "output_type": "execute_result",
          "data": {
            "text/plain": [
              "0                                              Geocode             Location  \\\n",
              "1    Carrer de Martínez de la Rosa, la Vila de Gràc...    41.39935, 2.15934   \n",
              "2    Carrer de Galileu, Sants, Sants-Montjuïc, Barc...    41.37804, 2.13498   \n",
              "3    Carrer de Sant Carles, la Barceloneta, Ciutat ...    41.37924, 2.18961   \n",
              "4    Carrer de Rossell, la Teixonera, Horta-Guinard...    41.42258, 2.14568   \n",
              "5    Carrer de Lleida, Cella Vinaria, Teià, Maresme...      41.4913, 2.3142   \n",
              "..                                                 ...                  ...   \n",
              "402  BMS, أبو بيكر بن عامر, Nouakchott, Ksar, Nouak...  18.10366, -15.95562   \n",
              "403              Etweymiret, Kiffa, Assaba, Mauritania  16.61953, -11.39744   \n",
              "404  Boulevard Mohamed V شارع محمد الخامس, Nador, P...   35.18046, -2.92422   \n",
              "405  Hay karrakchou, Hay Al Majd, Berkane, Pachalik...   34.94159, -2.33155   \n",
              "406  Pôle Urbain Ras El Ma, Ras El Ma, Ain Chkef, c...   33.97742, -5.08113   \n",
              "\n",
              "0   Typology  \n",
              "1          2  \n",
              "2          2  \n",
              "3          1  \n",
              "4          3  \n",
              "5          4  \n",
              "..       ...  \n",
              "402        1  \n",
              "403        1  \n",
              "404        1  \n",
              "405        3  \n",
              "406        3  \n",
              "\n",
              "[406 rows x 3 columns]"
            ],
            "text/html": [
              "\n",
              "  <div id=\"df-974cdd5f-a6ea-426f-ab9f-de12500ec206\">\n",
              "    <div class=\"colab-df-container\">\n",
              "      <div>\n",
              "<style scoped>\n",
              "    .dataframe tbody tr th:only-of-type {\n",
              "        vertical-align: middle;\n",
              "    }\n",
              "\n",
              "    .dataframe tbody tr th {\n",
              "        vertical-align: top;\n",
              "    }\n",
              "\n",
              "    .dataframe thead th {\n",
              "        text-align: right;\n",
              "    }\n",
              "</style>\n",
              "<table border=\"1\" class=\"dataframe\">\n",
              "  <thead>\n",
              "    <tr style=\"text-align: right;\">\n",
              "      <th></th>\n",
              "      <th>Geocode</th>\n",
              "      <th>Location</th>\n",
              "      <th>Typology</th>\n",
              "    </tr>\n",
              "  </thead>\n",
              "  <tbody>\n",
              "    <tr>\n",
              "      <th>1</th>\n",
              "      <td>Carrer de Martínez de la Rosa, la Vila de Gràc...</td>\n",
              "      <td>41.39935, 2.15934</td>\n",
              "      <td>2</td>\n",
              "    </tr>\n",
              "    <tr>\n",
              "      <th>2</th>\n",
              "      <td>Carrer de Galileu, Sants, Sants-Montjuïc, Barc...</td>\n",
              "      <td>41.37804, 2.13498</td>\n",
              "      <td>2</td>\n",
              "    </tr>\n",
              "    <tr>\n",
              "      <th>3</th>\n",
              "      <td>Carrer de Sant Carles, la Barceloneta, Ciutat ...</td>\n",
              "      <td>41.37924, 2.18961</td>\n",
              "      <td>1</td>\n",
              "    </tr>\n",
              "    <tr>\n",
              "      <th>4</th>\n",
              "      <td>Carrer de Rossell, la Teixonera, Horta-Guinard...</td>\n",
              "      <td>41.42258, 2.14568</td>\n",
              "      <td>3</td>\n",
              "    </tr>\n",
              "    <tr>\n",
              "      <th>5</th>\n",
              "      <td>Carrer de Lleida, Cella Vinaria, Teià, Maresme...</td>\n",
              "      <td>41.4913, 2.3142</td>\n",
              "      <td>4</td>\n",
              "    </tr>\n",
              "    <tr>\n",
              "      <th>...</th>\n",
              "      <td>...</td>\n",
              "      <td>...</td>\n",
              "      <td>...</td>\n",
              "    </tr>\n",
              "    <tr>\n",
              "      <th>402</th>\n",
              "      <td>BMS, أبو بيكر بن عامر, Nouakchott, Ksar, Nouak...</td>\n",
              "      <td>18.10366, -15.95562</td>\n",
              "      <td>1</td>\n",
              "    </tr>\n",
              "    <tr>\n",
              "      <th>403</th>\n",
              "      <td>Etweymiret, Kiffa, Assaba, Mauritania</td>\n",
              "      <td>16.61953, -11.39744</td>\n",
              "      <td>1</td>\n",
              "    </tr>\n",
              "    <tr>\n",
              "      <th>404</th>\n",
              "      <td>Boulevard Mohamed V شارع محمد الخامس, Nador, P...</td>\n",
              "      <td>35.18046, -2.92422</td>\n",
              "      <td>1</td>\n",
              "    </tr>\n",
              "    <tr>\n",
              "      <th>405</th>\n",
              "      <td>Hay karrakchou, Hay Al Majd, Berkane, Pachalik...</td>\n",
              "      <td>34.94159, -2.33155</td>\n",
              "      <td>3</td>\n",
              "    </tr>\n",
              "    <tr>\n",
              "      <th>406</th>\n",
              "      <td>Pôle Urbain Ras El Ma, Ras El Ma, Ain Chkef, c...</td>\n",
              "      <td>33.97742, -5.08113</td>\n",
              "      <td>3</td>\n",
              "    </tr>\n",
              "  </tbody>\n",
              "</table>\n",
              "<p>406 rows × 3 columns</p>\n",
              "</div>\n",
              "      <button class=\"colab-df-convert\" onclick=\"convertToInteractive('df-974cdd5f-a6ea-426f-ab9f-de12500ec206')\"\n",
              "              title=\"Convert this dataframe to an interactive table.\"\n",
              "              style=\"display:none;\">\n",
              "        \n",
              "  <svg xmlns=\"http://www.w3.org/2000/svg\" height=\"24px\"viewBox=\"0 0 24 24\"\n",
              "       width=\"24px\">\n",
              "    <path d=\"M0 0h24v24H0V0z\" fill=\"none\"/>\n",
              "    <path d=\"M18.56 5.44l.94 2.06.94-2.06 2.06-.94-2.06-.94-.94-2.06-.94 2.06-2.06.94zm-11 1L8.5 8.5l.94-2.06 2.06-.94-2.06-.94L8.5 2.5l-.94 2.06-2.06.94zm10 10l.94 2.06.94-2.06 2.06-.94-2.06-.94-.94-2.06-.94 2.06-2.06.94z\"/><path d=\"M17.41 7.96l-1.37-1.37c-.4-.4-.92-.59-1.43-.59-.52 0-1.04.2-1.43.59L10.3 9.45l-7.72 7.72c-.78.78-.78 2.05 0 2.83L4 21.41c.39.39.9.59 1.41.59.51 0 1.02-.2 1.41-.59l7.78-7.78 2.81-2.81c.8-.78.8-2.07 0-2.86zM5.41 20L4 18.59l7.72-7.72 1.47 1.35L5.41 20z\"/>\n",
              "  </svg>\n",
              "      </button>\n",
              "      \n",
              "  <style>\n",
              "    .colab-df-container {\n",
              "      display:flex;\n",
              "      flex-wrap:wrap;\n",
              "      gap: 12px;\n",
              "    }\n",
              "\n",
              "    .colab-df-convert {\n",
              "      background-color: #E8F0FE;\n",
              "      border: none;\n",
              "      border-radius: 50%;\n",
              "      cursor: pointer;\n",
              "      display: none;\n",
              "      fill: #1967D2;\n",
              "      height: 32px;\n",
              "      padding: 0 0 0 0;\n",
              "      width: 32px;\n",
              "    }\n",
              "\n",
              "    .colab-df-convert:hover {\n",
              "      background-color: #E2EBFA;\n",
              "      box-shadow: 0px 1px 2px rgba(60, 64, 67, 0.3), 0px 1px 3px 1px rgba(60, 64, 67, 0.15);\n",
              "      fill: #174EA6;\n",
              "    }\n",
              "\n",
              "    [theme=dark] .colab-df-convert {\n",
              "      background-color: #3B4455;\n",
              "      fill: #D2E3FC;\n",
              "    }\n",
              "\n",
              "    [theme=dark] .colab-df-convert:hover {\n",
              "      background-color: #434B5C;\n",
              "      box-shadow: 0px 1px 3px 1px rgba(0, 0, 0, 0.15);\n",
              "      filter: drop-shadow(0px 1px 2px rgba(0, 0, 0, 0.3));\n",
              "      fill: #FFFFFF;\n",
              "    }\n",
              "  </style>\n",
              "\n",
              "      <script>\n",
              "        const buttonEl =\n",
              "          document.querySelector('#df-974cdd5f-a6ea-426f-ab9f-de12500ec206 button.colab-df-convert');\n",
              "        buttonEl.style.display =\n",
              "          google.colab.kernel.accessAllowed ? 'block' : 'none';\n",
              "\n",
              "        async function convertToInteractive(key) {\n",
              "          const element = document.querySelector('#df-974cdd5f-a6ea-426f-ab9f-de12500ec206');\n",
              "          const dataTable =\n",
              "            await google.colab.kernel.invokeFunction('convertToInteractive',\n",
              "                                                     [key], {});\n",
              "          if (!dataTable) return;\n",
              "\n",
              "          const docLinkHtml = 'Like what you see? Visit the ' +\n",
              "            '<a target=\"_blank\" href=https://colab.research.google.com/notebooks/data_table.ipynb>data table notebook</a>'\n",
              "            + ' to learn more about interactive tables.';\n",
              "          element.innerHTML = '';\n",
              "          dataTable['output_type'] = 'display_data';\n",
              "          await google.colab.output.renderOutput(dataTable, element);\n",
              "          const docLink = document.createElement('div');\n",
              "          docLink.innerHTML = docLinkHtml;\n",
              "          element.appendChild(docLink);\n",
              "        }\n",
              "      </script>\n",
              "    </div>\n",
              "  </div>\n",
              "  "
            ]
          },
          "metadata": {},
          "execution_count": 4
        }
      ],
      "source": [
        "geocodes_dataframe"
      ]
    },
    {
      "cell_type": "code",
      "execution_count": null,
      "metadata": {
        "colab": {
          "base_uri": "https://localhost:8080/"
        },
        "id": "4IJ1osyhPgdJ",
        "outputId": "12bc1cd8-1ec7-47ba-e70a-5a56b3b5f140"
      },
      "outputs": [
        {
          "output_type": "execute_result",
          "data": {
            "text/plain": [
              "list"
            ]
          },
          "metadata": {},
          "execution_count": 5
        }
      ],
      "source": [
        "cities =[i for i in geocodes_dataframe.Location] \n",
        "\n",
        "cities =[tuple(map(float, i.split(', '))) for i in cities] \n",
        "type(cities)"
      ]
    },
    {
      "cell_type": "markdown",
      "metadata": {
        "id": "Gb2I_EDVf9D_"
      },
      "source": [
        "## *Saving images of the retrieved networks*"
      ]
    },
    {
      "cell_type": "code",
      "execution_count": null,
      "metadata": {
        "id": "8g7n08fYn_n0"
      },
      "outputs": [],
      "source": [
        "index = 75\n",
        "\n",
        "for city in cities[75:]:\n",
        "  G = ox.graph_from_point(city, dist=300, network_type='drive', simplify=False)\n",
        "  ox.plot_graph(G, ax = None, figsize=(5,5),bgcolor='white', show=True,node_size=0, edge_linewidth=2, edge_color=\"#000000\", save=True, \n",
        "                filepath=\"/content/drive/MyDrive/THESIS - SNG/01. DATASET/final dataset/plots/{}.png\".format(index), \n",
        "                dpi = 100)\n",
        "  index+=1"
      ]
    },
    {
      "cell_type": "code",
      "execution_count": null,
      "metadata": {
        "id": "GOako2QHJkIe"
      },
      "outputs": [],
      "source": [
        "import cv2\n",
        "import os\n",
        "from google.colab.patches import cv2_imshow\n",
        "\n",
        "def load_images_from_folder(folder):\n",
        "    images = []\n",
        "    filenames = glob.glob(os.path.join(folder,\"*\"))\n",
        "    for i in range(0,len(filenames)):\n",
        "      img = cv2.imread(os.path.join(folder,'{}.png'.format(i)))\n",
        "      if img is not None:\n",
        "        #img = cv2.resize(img, (150, 150))   \n",
        "        images.append(img)\n",
        "    return images"
      ]
    },
    {
      "cell_type": "markdown",
      "metadata": {
        "id": "72wTWQ2UVRou"
      },
      "source": [
        "#**Dataset creation**"
      ]
    },
    {
      "cell_type": "markdown",
      "metadata": {
        "id": "I6Gfd8xG8Kef"
      },
      "source": [
        "##*- primal approach +/- features*"
      ]
    },
    {
      "cell_type": "code",
      "source": [
        "#no features\n",
        "\n",
        "#instantiate empty list to which Stellar graph instances will be appended\n",
        "graphs =[]\n",
        "graphnr =1\n",
        "\n",
        "for city in cities:\n",
        "  G = ox.graph_from_point(city, dist=300, network_type='drive', simplify=True)\n",
        "  G = ox.utils_graph.get_undirected(G)\n",
        "\n",
        "  G = ox.project_graph(G)\n",
        "  nodes, edges = ox.utils_graph.graph_to_gdfs(G)\n",
        "\n",
        "\n",
        "  nodes = pd.DataFrame().assign(street_count=nodes['street_count'])\n",
        "  nodes=nodes.replace(' ', 0) \n",
        "\n",
        "  edges = edges.reset_index()\n",
        "  edges = pd.DataFrame().assign(source=edges['from'], target=edges['to'], weight=edges['length'])\n",
        "  edges=edges.replace(' ', 0) \n",
        "\n",
        "  citygraph = StellarGraph(nodes, edges)\n",
        "  graphs.append(citygraph)\n",
        "\n",
        "  print('graph number                    == {}'.format(graphnr))\n",
        "  graphnr+=1"
      ],
      "metadata": {
        "id": "A7pABiBWD_Qy"
      },
      "execution_count": null,
      "outputs": []
    },
    {
      "cell_type": "code",
      "execution_count": null,
      "metadata": {
        "id": "JmAaVNrV_Iu3"
      },
      "outputs": [],
      "source": [
        "#with features\n",
        "\n",
        "#instantiate empty list to which Stellar graph instances will be appended\n",
        "graphs =[]\n",
        "graphnr =1\n",
        "\n",
        "for city in cities:\n",
        "  G = ox.graph_from_point(city, dist=300, network_type='drive', simplify=True)\n",
        "  G = ox.utils_graph.get_undirected(G)\n",
        "\n",
        "  ox.bearing.add_edge_bearings(G, precision=1)\n",
        "  G = ox.project_graph(G)\n",
        "  nodes, edges = ox.utils_graph.graph_to_gdfs(G)\n",
        "\n",
        "  nodes[\"avg_angle\"] = \" \"\n",
        "  nodes[\"max_angle\"] = \" \"\n",
        "  nodes[\"min_angle\"] = \" \"\n",
        "  nodes[\"prop_angle\"] = \" \"\n",
        "  nodes[\"prop_length\"] = \" \"\n",
        "\n",
        "  for index in nodes.index:\n",
        "  # nodes with street count <2 are dead ends, we dont give attributes to them\n",
        "    if nodes.at[index,'street_count']>=2:\n",
        "      index = int(index)\n",
        "      #get the lengths of the edges the node is either a startpoint or an endpoint\n",
        "      dl = edges.query('u == {}'.format(index)).length\n",
        "      dl=dl.append(edges.query('v == {}'.format(index)).length)\n",
        "      #convert the created dataframe to a list\n",
        "      length = dl.tolist()\n",
        "      #assign the feature to the respective node column\n",
        "      if min(length)!=0:\n",
        "        nodes.at[index,'prop_length'] = round(max(length)/min(length),2)\n",
        "      #get the calculated bearing of the edges the node is either a startpoint or an endpoint\n",
        "      \n",
        "      #for calculating the angles between intersecting streets we use the calculated bearing in osmnx\n",
        "      #bearing is the angle between the geodesic north and the edge\n",
        "      df1 = edges.query('u == {}'.format(index)).bearing\n",
        "      df2 = edges.query('v == {}'.format(index)).bearing\n",
        "      \n",
        "      #angle is max-min angle of the 2 edges, note that when the node is v of the edge we need to add 180 degrees to the bearing\n",
        "      #thats why we divide them in 2 lists\n",
        "      ang_u= df1.tolist()\n",
        "\n",
        "      ang_v= df2.tolist()\n",
        "      ang_v =[x+180 for x in ang_v]\n",
        "\n",
        "      angles = ang_u+ang_v\n",
        "\n",
        "      if len(angles)>1:\n",
        "        #create pairs of the streets in the intersection\n",
        "        street_pairs = list(itertools.combinations(angles, 2))\n",
        "        int_angles =[]\n",
        "        for streets in street_pairs:\n",
        "          int_angles.append(max(streets)-min(streets))\n",
        "        int_angles = [x for x in int_angles if math.isnan(x) == False]\n",
        "\n",
        "        if len(int_angles)>0:\n",
        "          nodes.at[index,'avg_angle'] = int(mean(int_angles))\n",
        "          nodes.at[index,'max_angle'] = int(max(int_angles))\n",
        "          nodes.at[index,'min_angle'] = int(min(int_angles))\n",
        "          if int(min(int_angles))==0:\n",
        "            continue\n",
        "          else:\n",
        "            nodes.at[index,'prop_angle'] = round(int(max(int_angles))/int(min(int_angles)),2)\n",
        "\n",
        "  nodes = pd.DataFrame().assign(street_count=nodes['street_count'], avg_angle=nodes['avg_angle'], max_angle=nodes['max_angle'],min_angle=nodes['min_angle'],prop_angle=nodes['prop_angle'],prop_length=nodes['prop_length'])\n",
        "  nodes=nodes.replace(' ', 0) \n",
        "\n",
        "  edges = edges.reset_index()\n",
        "  edges = pd.DataFrame().assign(source=edges['from'], target=edges['to'], weight=edges['length'])\n",
        "  edges=edges.replace(' ', 0) \n",
        "\n",
        "  citygraph = StellarGraph(nodes, edges)\n",
        "  graphs.append(citygraph)\n",
        "\n",
        "  print('graph number                    == {}'.format(graphnr))\n",
        "  graphnr+=1"
      ]
    },
    {
      "cell_type": "code",
      "execution_count": null,
      "metadata": {
        "colab": {
          "base_uri": "https://localhost:8080/"
        },
        "id": "woiiykDGeAwb",
        "outputId": "7f9817c5-6d87-4827-a2d3-bc4fb8a875c1"
      },
      "outputs": [
        {
          "output_type": "stream",
          "name": "stdout",
          "text": [
            "Mounted at /content/drive\n"
          ]
        }
      ],
      "source": [
        "from google.colab import drive\n",
        "drive.mount('/content/drive')"
      ]
    },
    {
      "cell_type": "code",
      "execution_count": null,
      "metadata": {
        "id": "0HejsbMHG_bN"
      },
      "outputs": [],
      "source": [
        "#save to the desired location\n",
        "import pickle\n",
        "# Dump graph\n",
        "with open(\"/content/drive/MyDrive/THESIS - SNG/01. DATASET/final dataset/stellargraphs_final_nofeatures.p\", 'wb') as f:\n",
        "    pickle.dump(graphs, f)"
      ]
    },
    {
      "cell_type": "markdown",
      "source": [
        "##*- dual approach +/- features*"
      ],
      "metadata": {
        "id": "4h2u7u5lmfd7"
      }
    },
    {
      "cell_type": "code",
      "execution_count": null,
      "metadata": {
        "id": "pGA3thsHtUF4"
      },
      "outputs": [],
      "source": [
        "#with features\n",
        "#instantiate empty list to which Stellar graph instances will be appended\n",
        "graphs =[]\n",
        "graphnr =1\n",
        "\n",
        "for city in cities:\n",
        "  G = ox.graph_from_point(city, dist=300, network_type='drive', simplify=True)\n",
        "  G = ox.utils_graph.get_undirected(G)\n",
        "\n",
        "  ox.bearing.add_edge_bearings(G, precision=1)\n",
        "  G = ox.project_graph(G)\n",
        "  nodes, edges = ox.utils_graph.graph_to_gdfs(G)\n",
        "\n",
        "  edges['length'] = edges['length'].fillna(1)\n",
        "  edges['bearing'] = edges['bearing'].fillna(1)\n",
        "\n",
        "  dual = momepy.gdf_to_nx(edges, approach='dual')\n",
        "  for node_id, node_data in dual.nodes(data=True):\n",
        "      node_data[\"features\"] = [round(dual.nodes[node_id]['length']), round(dual.nodes[node_id]['bearing'])]\n",
        "\n",
        "  sgraph = StellarGraph.from_networkx(dual, node_features=\"features\")\n",
        "  graphs.append(sgraph)\n",
        "\n",
        "  print('graph number                    == {}'.format(graphnr))\n",
        "  graphnr+=1\n",
        "  "
      ]
    },
    {
      "cell_type": "code",
      "source": [
        "#without features\n",
        "#instantiate empty list to which Stellar graph instances will be appended\n",
        "graphs =[]\n",
        "graphnr =1\n",
        "\n",
        "for city in cities:\n",
        "  G = ox.graph_from_point(city, dist=300, network_type='drive', simplify=True)\n",
        "  G = ox.utils_graph.get_undirected(G)\n",
        "\n",
        "  nodes, edges = ox.utils_graph.graph_to_gdfs(G)\n",
        "  G = ox.project_graph(G)\n",
        "  dual = momepy.gdf_to_nx(edges, approach='dual')\n",
        "  for node_id, node_data in dual.nodes(data=True):\n",
        "      node_data[\"features\"] = [1]\n",
        "\n",
        "  sgraph = StellarGraph.from_networkx(dual, node_features=\"features\")\n",
        "  graphs.append(sgraph)\n",
        "\n",
        "  print('graph number                    == {}'.format(graphnr))\n",
        "  graphnr+=1\n",
        "  "
      ],
      "metadata": {
        "id": "2vr1O4cITnhS"
      },
      "execution_count": null,
      "outputs": []
    },
    {
      "cell_type": "code",
      "source": [
        "#save to the desired location\n",
        "import pickle\n",
        "# Dump graph\n",
        "with open(\"/content/drive/MyDrive/THESIS - SNG/01. DATASET/final dataset/dual_final.p\", 'wb') as f:\n",
        "    pickle.dump(graphs, f)"
      ],
      "metadata": {
        "id": "JewiYYDFTKsL"
      },
      "execution_count": null,
      "outputs": []
    },
    {
      "cell_type": "markdown",
      "metadata": {
        "id": "CveGu5gQVVfT"
      },
      "source": [
        "##*Load dataset - check*"
      ]
    },
    {
      "cell_type": "code",
      "execution_count": null,
      "metadata": {
        "colab": {
          "base_uri": "https://localhost:8080/"
        },
        "id": "y50NLW4kaYx7",
        "outputId": "ba433054-7918-4178-ef55-27c534aee334"
      },
      "outputs": [
        {
          "output_type": "stream",
          "name": "stdout",
          "text": [
            "Mounted at /content/drive\n"
          ]
        }
      ],
      "source": [
        "from google.colab import drive\n",
        "drive.mount('/content/drive')"
      ]
    },
    {
      "cell_type": "code",
      "execution_count": null,
      "metadata": {
        "id": "6Bdhh8j_9bY7"
      },
      "outputs": [],
      "source": [
        "import pickle\n",
        "# Load graph\n",
        "with open(\"path/stellargraphs_final.p\", 'rb') as f:  # notice the r instead of w\n",
        "    sgraphs = pickle.load(f)"
      ]
    },
    {
      "cell_type": "code",
      "execution_count": null,
      "metadata": {
        "id": "8RQoUlmjHv_c"
      },
      "outputs": [],
      "source": [
        "print(sgraphs[1].info())"
      ]
    },
    {
      "cell_type": "code",
      "execution_count": null,
      "metadata": {
        "id": "Kf2CrxUBSk_6"
      },
      "outputs": [],
      "source": [
        "summary = pd.DataFrame(\n",
        "    [(g.number_of_nodes(), g.number_of_edges()) for g in sgraphs],\n",
        "    columns=[\"nodes\", \"edges\"],\n",
        ")\n",
        "summary.describe().round(1)"
      ]
    },
    {
      "cell_type": "markdown",
      "metadata": {
        "id": "4fbdZchx8Fmv"
      },
      "source": [
        "##*Export files for street decoder*"
      ]
    },
    {
      "cell_type": "code",
      "execution_count": null,
      "metadata": {
        "id": "UZG49exZgxnv"
      },
      "outputs": [],
      "source": [
        "\n",
        "G = ox.graph_from_point(cities[400], dist=300, network_type='drive', simplify=False)\n",
        "G = ox.utils_graph.get_undirected(G)\n",
        "\n",
        "ox.bearing.add_edge_bearings(G, precision=1)\n",
        "ox.projection.project_graph(G, to_crs=\"epsg:3345\")\n",
        "\n",
        "nodes, edges = ox.utils_graph.graph_to_gdfs(G)\n",
        "\n",
        "edges = edges.reset_index()\n",
        "edges = pd.DataFrame().assign(source=edges['from'], target=edges['to'], length=edges['length'], bearing = edges['bearing'])\n",
        "edges=edges.replace(' ', 0) \n",
        "\n",
        "index = nodes.index.tolist()\n",
        "np.savetxt(r'/content/drive/MyDrive/THESIS - SNG/01. DATASET/encoding street networks files/bearing/400/nodeIndex.txt', index, delimiter= \",\", fmt='%f')\n",
        "np.savetxt(r'/content/drive/MyDrive/THESIS - SNG/01. DATASET/encoding street networks files/bearing/400/edges.txt', edges.values, delimiter= \",\", fmt='%f' )"
      ]
    }
  ],
  "metadata": {
    "accelerator": "GPU",
    "colab": {
      "collapsed_sections": [
        "HR8jBNf3kVOs",
        "Qjt5PJ2-k1dT",
        "Gb2I_EDVf9D_",
        "I6Gfd8xG8Kef",
        "4h2u7u5lmfd7",
        "CveGu5gQVVfT",
        "4fbdZchx8Fmv"
      ],
      "machine_shape": "hm",
      "provenance": []
    },
    "gpuClass": "standard",
    "kernelspec": {
      "display_name": "Python 3",
      "name": "python3"
    },
    "language_info": {
      "name": "python"
    }
  },
  "nbformat": 4,
  "nbformat_minor": 0
}